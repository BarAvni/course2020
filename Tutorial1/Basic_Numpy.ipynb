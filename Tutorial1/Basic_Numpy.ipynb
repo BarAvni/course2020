{
  "nbformat": 4,
  "nbformat_minor": 0,
  "metadata": {
    "kernelspec": {
      "display_name": "Python 3",
      "language": "python",
      "name": "python3"
    },
    "language_info": {
      "codemirror_mode": {
        "name": "ipython",
        "version": 3
      },
      "file_extension": ".py",
      "mimetype": "text/x-python",
      "name": "python",
      "nbconvert_exporter": "python",
      "pygments_lexer": "ipython3",
      "version": "3.7.1"
    },
    "colab": {
      "name": "Basic_Numpy.ipynb",
      "provenance": [],
      "include_colab_link": true
    }
  },
  "cells": [
    {
      "cell_type": "markdown",
      "metadata": {
        "id": "view-in-github",
        "colab_type": "text"
      },
      "source": [
        "<a href=\"https://colab.research.google.com/github/WeizmannML/course2020/blob/master/Tutorial1/Basic_Numpy.ipynb\" target=\"_parent\"><img src=\"https://colab.research.google.com/assets/colab-badge.svg\" alt=\"Open In Colab\"/></a>"
      ]
    },
    {
      "cell_type": "markdown",
      "metadata": {
        "id": "rqBgc3DGn4Vn",
        "colab_type": "text"
      },
      "source": [
        "## Basic python and numpy arrays and their operation"
      ]
    },
    {
      "cell_type": "code",
      "metadata": {
        "id": "sTuWTATLn4Vo",
        "colab_type": "code",
        "colab": {}
      },
      "source": [
        "import numpy as np"
      ],
      "execution_count": 0,
      "outputs": []
    },
    {
      "cell_type": "code",
      "metadata": {
        "id": "Hb3UEJvKn4Vt",
        "colab_type": "code",
        "colab": {}
      },
      "source": [
        "# a basic list in python \n",
        "A = [2.0, 8.1, 3.4]"
      ],
      "execution_count": 0,
      "outputs": []
    },
    {
      "cell_type": "code",
      "metadata": {
        "id": "HsrsVUVnn4Vw",
        "colab_type": "code",
        "colab": {
          "base_uri": "https://localhost:8080/",
          "height": 34
        },
        "outputId": "583cbb92-a4a9-4ad5-bbb7-91f0686fe0f3"
      },
      "source": [
        "type(A)"
      ],
      "execution_count": 3,
      "outputs": [
        {
          "output_type": "execute_result",
          "data": {
            "text/plain": [
              "list"
            ]
          },
          "metadata": {
            "tags": []
          },
          "execution_count": 3
        }
      ]
    },
    {
      "cell_type": "code",
      "metadata": {
        "id": "qcov_NVbn4V1",
        "colab_type": "code",
        "colab": {
          "base_uri": "https://localhost:8080/",
          "height": 34
        },
        "outputId": "2ef19757-1ef4-4ed6-8d39-7dafc0a38a60"
      },
      "source": [
        "B = np.array(A) # equivalent to B = np.array([2.0, 8.1, 3.4])\n",
        "print(B)"
      ],
      "execution_count": 4,
      "outputs": [
        {
          "output_type": "stream",
          "text": [
            "[2.  8.1 3.4]\n"
          ],
          "name": "stdout"
        }
      ]
    },
    {
      "cell_type": "code",
      "metadata": {
        "id": "waOJ5PGkn4V3",
        "colab_type": "code",
        "colab": {
          "base_uri": "https://localhost:8080/",
          "height": 34
        },
        "outputId": "b5824a73-0984-4f24-f8b5-b63963f8ccc3"
      },
      "source": [
        "type(B), B.dtype"
      ],
      "execution_count": 5,
      "outputs": [
        {
          "output_type": "execute_result",
          "data": {
            "text/plain": [
              "(numpy.ndarray, dtype('float64'))"
            ]
          },
          "metadata": {
            "tags": []
          },
          "execution_count": 5
        }
      ]
    },
    {
      "cell_type": "code",
      "metadata": {
        "id": "KxZC91lCn4V6",
        "colab_type": "code",
        "colab": {
          "base_uri": "https://localhost:8080/",
          "height": 34
        },
        "outputId": "6d3fc9f4-58ba-437c-d407-12866ad1aa01"
      },
      "source": [
        "A.append(6.3)\n",
        "A"
      ],
      "execution_count": 6,
      "outputs": [
        {
          "output_type": "execute_result",
          "data": {
            "text/plain": [
              "[2.0, 8.1, 3.4, 6.3]"
            ]
          },
          "metadata": {
            "tags": []
          },
          "execution_count": 6
        }
      ]
    },
    {
      "cell_type": "code",
      "metadata": {
        "id": "eJfRjzhWn4WA",
        "colab_type": "code",
        "colab": {
          "base_uri": "https://localhost:8080/",
          "height": 34
        },
        "outputId": "f214ed60-1e47-4e5f-ead2-e582f07d8da0"
      },
      "source": [
        "A.pop(1) # -- notice to remove an item from the list, one needs to pass the corresponding location index -- #\n",
        "A"
      ],
      "execution_count": 7,
      "outputs": [
        {
          "output_type": "execute_result",
          "data": {
            "text/plain": [
              "[2.0, 3.4, 6.3]"
            ]
          },
          "metadata": {
            "tags": []
          },
          "execution_count": 7
        }
      ]
    },
    {
      "cell_type": "code",
      "metadata": {
        "id": "oa_7c6WMn4WD",
        "colab_type": "code",
        "colab": {}
      },
      "source": [
        "B\n",
        "B.sort() # -- equivalently np.sort(B) -- #"
      ],
      "execution_count": 0,
      "outputs": []
    },
    {
      "cell_type": "code",
      "metadata": {
        "id": "E2PiloCEn4WG",
        "colab_type": "code",
        "colab": {
          "base_uri": "https://localhost:8080/",
          "height": 34
        },
        "outputId": "10221aae-4c0e-4e76-a26e-9e403879eae3"
      },
      "source": [
        "B"
      ],
      "execution_count": 9,
      "outputs": [
        {
          "output_type": "execute_result",
          "data": {
            "text/plain": [
              "array([2. , 3.4, 8.1])"
            ]
          },
          "metadata": {
            "tags": []
          },
          "execution_count": 9
        }
      ]
    },
    {
      "cell_type": "code",
      "metadata": {
        "id": "jMl7OzeMn4WI",
        "colab_type": "code",
        "colab": {}
      },
      "source": [
        "#np.ndarray.sort??"
      ],
      "execution_count": 0,
      "outputs": []
    },
    {
      "cell_type": "markdown",
      "metadata": {
        "id": "UfbM-Ka-n4WK",
        "colab_type": "text"
      },
      "source": [
        "### array indexing "
      ]
    },
    {
      "cell_type": "code",
      "metadata": {
        "id": "J0W5_8Zrn4WL",
        "colab_type": "code",
        "colab": {}
      },
      "source": [
        "x = np.array(['A', 'B', 'C', 'D', 'E', 'F', 'G', 'H', 'I', 'J'])"
      ],
      "execution_count": 0,
      "outputs": []
    },
    {
      "cell_type": "code",
      "metadata": {
        "id": "Wl3Cdiyen4WQ",
        "colab_type": "code",
        "colab": {
          "base_uri": "https://localhost:8080/",
          "height": 34
        },
        "outputId": "5d8082b5-cd12-47fe-9b10-cff2bfdac2e7"
      },
      "source": [
        "x.shape"
      ],
      "execution_count": 12,
      "outputs": [
        {
          "output_type": "execute_result",
          "data": {
            "text/plain": [
              "(10,)"
            ]
          },
          "metadata": {
            "tags": []
          },
          "execution_count": 12
        }
      ]
    },
    {
      "cell_type": "markdown",
      "metadata": {
        "id": "xwh8_XuUn4WV",
        "colab_type": "text"
      },
      "source": [
        "#### <font color=blue>The basic slice syntax is $i:j:k$ where $i$ is the starting index, $j$ is the stopping index, and $k$ is the step $(k\\neq0)$. This selects the m elements (in the corresponding dimension) with index values $i, i + k, …, i + (m - 1) k$ where $m = q + (r\\neq0)$ and $q$ and $r$ are the quotient and remainder obtained by dividing $j - i$ by $k: j - i = q k + r$, so that $i + (m - 1) k < j$.</font>\n",
        "\n"
      ]
    },
    {
      "cell_type": "code",
      "metadata": {
        "id": "r8XJQcR2n4WV",
        "colab_type": "code",
        "colab": {
          "base_uri": "https://localhost:8080/",
          "height": 34
        },
        "outputId": "a7d66dba-9843-4189-d2d9-10c2fa096df6"
      },
      "source": [
        "x[1:7:2] # -- \"1:7\" picks up 'B' --> 'F'. Then \":2\" picks up every 2nd element of the reduced array"
      ],
      "execution_count": 13,
      "outputs": [
        {
          "output_type": "execute_result",
          "data": {
            "text/plain": [
              "array(['B', 'D', 'F'], dtype='<U1')"
            ]
          },
          "metadata": {
            "tags": []
          },
          "execution_count": 13
        }
      ]
    },
    {
      "cell_type": "code",
      "metadata": {
        "id": "JZdXGfUGn4WX",
        "colab_type": "code",
        "colab": {
          "base_uri": "https://localhost:8080/",
          "height": 50
        },
        "outputId": "cc1101cb-2b25-49e2-d646-bf3806d50e72"
      },
      "source": [
        "x[3:], x[:3] # -- c[p:] --> all the elements starting from index p, x[:q] ---> all the elements upto index q"
      ],
      "execution_count": 14,
      "outputs": [
        {
          "output_type": "execute_result",
          "data": {
            "text/plain": [
              "(array(['D', 'E', 'F', 'G', 'H', 'I', 'J'], dtype='<U1'),\n",
              " array(['A', 'B', 'C'], dtype='<U1'))"
            ]
          },
          "metadata": {
            "tags": []
          },
          "execution_count": 14
        }
      ]
    },
    {
      "cell_type": "code",
      "metadata": {
        "id": "AzoVYAKOn4Wa",
        "colab_type": "code",
        "colab": {
          "base_uri": "https://localhost:8080/",
          "height": 34
        },
        "outputId": "11d80fb4-7ebc-4fba-b418-c958545512d5"
      },
      "source": [
        "x[:3].tolist() + x[3:].tolist() # -- notice that we converted the numpy array to list.\n",
        "# --- why can't we work with the numpy.ndarray structure ? "
      ],
      "execution_count": 15,
      "outputs": [
        {
          "output_type": "execute_result",
          "data": {
            "text/plain": [
              "['A', 'B', 'C', 'D', 'E', 'F', 'G', 'H', 'I', 'J']"
            ]
          },
          "metadata": {
            "tags": []
          },
          "execution_count": 15
        }
      ]
    },
    {
      "cell_type": "markdown",
      "metadata": {
        "id": "LUFf9nV8n4Wc",
        "colab_type": "text"
      },
      "source": [
        "#### <font color=blue>Negative $i$ and $j$ are interpreted as $n + i$ and $n + j$ where $n$ is the number of elements in the corresponding dimension. Negative $k$ makes stepping go towards smaller indices.</font>"
      ]
    },
    {
      "cell_type": "code",
      "metadata": {
        "id": "_0kMIaA2n4Wd",
        "colab_type": "code",
        "colab": {
          "base_uri": "https://localhost:8080/",
          "height": 34
        },
        "outputId": "9afa11a4-a41f-468e-ac23-69f7c0c76a8a"
      },
      "source": [
        "x[-2:10], x[-3:3:-1]"
      ],
      "execution_count": 16,
      "outputs": [
        {
          "output_type": "execute_result",
          "data": {
            "text/plain": [
              "(array(['I', 'J'], dtype='<U1'), array(['H', 'G', 'F', 'E'], dtype='<U1'))"
            ]
          },
          "metadata": {
            "tags": []
          },
          "execution_count": 16
        }
      ]
    },
    {
      "cell_type": "code",
      "metadata": {
        "id": "kRHR2S7Gn4Wi",
        "colab_type": "code",
        "colab": {
          "base_uri": "https://localhost:8080/",
          "height": 34
        },
        "outputId": "02cd0032-bf31-4f17-dc76-2d81f50b5a3f"
      },
      "source": [
        "x[[2,3,4]] # -- by passing the positions as a list, a subset of an array can be extracted"
      ],
      "execution_count": 17,
      "outputs": [
        {
          "output_type": "execute_result",
          "data": {
            "text/plain": [
              "array(['C', 'D', 'E'], dtype='<U1')"
            ]
          },
          "metadata": {
            "tags": []
          },
          "execution_count": 17
        }
      ]
    },
    {
      "cell_type": "code",
      "metadata": {
        "id": "j8Ii1QkTn4Wm",
        "colab_type": "code",
        "colab": {
          "base_uri": "https://localhost:8080/",
          "height": 67
        },
        "outputId": "d141b28c-bdd7-49f5-a3da-28451d0dbf2b"
      },
      "source": [
        "np.arange(1, 100, 2) # --- can be used for any range for fractional interval"
      ],
      "execution_count": 18,
      "outputs": [
        {
          "output_type": "execute_result",
          "data": {
            "text/plain": [
              "array([ 1,  3,  5,  7,  9, 11, 13, 15, 17, 19, 21, 23, 25, 27, 29, 31, 33,\n",
              "       35, 37, 39, 41, 43, 45, 47, 49, 51, 53, 55, 57, 59, 61, 63, 65, 67,\n",
              "       69, 71, 73, 75, 77, 79, 81, 83, 85, 87, 89, 91, 93, 95, 97, 99])"
            ]
          },
          "metadata": {
            "tags": []
          },
          "execution_count": 18
        }
      ]
    },
    {
      "cell_type": "code",
      "metadata": {
        "id": "j01FWwQOn4Wo",
        "colab_type": "code",
        "colab": {
          "base_uri": "https://localhost:8080/",
          "height": 50
        },
        "outputId": "9c093bfe-8d8f-475c-c1fd-8984ac13bbae"
      },
      "source": [
        "np.linspace(0., 2., 8) # ---- make equal interval of numbers "
      ],
      "execution_count": 19,
      "outputs": [
        {
          "output_type": "execute_result",
          "data": {
            "text/plain": [
              "array([0.        , 0.28571429, 0.57142857, 0.85714286, 1.14285714,\n",
              "       1.42857143, 1.71428571, 2.        ])"
            ]
          },
          "metadata": {
            "tags": []
          },
          "execution_count": 19
        }
      ]
    },
    {
      "cell_type": "markdown",
      "metadata": {
        "id": "uLzXgwq5n4Wq",
        "colab_type": "text"
      },
      "source": [
        "## Higher dimensional arrays"
      ]
    },
    {
      "cell_type": "code",
      "metadata": {
        "id": "FeA4_7FWn4Wq",
        "colab_type": "code",
        "colab": {}
      },
      "source": [
        "x = np.random.rand( 3,3,4 ) # -- create a rank-3 object of shape (3,3,4)"
      ],
      "execution_count": 0,
      "outputs": []
    },
    {
      "cell_type": "code",
      "metadata": {
        "id": "ne_ugjfqn4Ws",
        "colab_type": "code",
        "colab": {
          "base_uri": "https://localhost:8080/",
          "height": 202
        },
        "outputId": "f7399620-c022-488b-e833-9de1541f44e7"
      },
      "source": [
        "x"
      ],
      "execution_count": 21,
      "outputs": [
        {
          "output_type": "execute_result",
          "data": {
            "text/plain": [
              "array([[[8.26232974e-01, 6.92611972e-01, 2.03579104e-01, 3.23769264e-01],\n",
              "        [5.55466218e-01, 4.20383171e-02, 5.08205040e-01, 8.49607637e-01],\n",
              "        [4.11455416e-01, 8.42781181e-01, 2.51316326e-01, 6.15809696e-01]],\n",
              "\n",
              "       [[4.32525703e-02, 4.50271311e-02, 4.88162889e-02, 6.78998202e-01],\n",
              "        [5.17004045e-01, 1.85380186e-01, 8.47136420e-01, 8.80311904e-01],\n",
              "        [1.11215899e-01, 7.58906893e-01, 1.06236427e-01, 2.59936916e-01]],\n",
              "\n",
              "       [[6.60077776e-01, 6.71263086e-01, 2.39231933e-01, 8.97821324e-01],\n",
              "        [1.79400292e-02, 4.90331724e-01, 8.78440057e-01, 6.48892346e-04],\n",
              "        [2.85348139e-01, 5.35095503e-01, 9.45219288e-01, 8.71301577e-01]]])"
            ]
          },
          "metadata": {
            "tags": []
          },
          "execution_count": 21
        }
      ]
    },
    {
      "cell_type": "code",
      "metadata": {
        "id": "7riki3eln4Wu",
        "colab_type": "code",
        "colab": {
          "base_uri": "https://localhost:8080/",
          "height": 67
        },
        "outputId": "72004c97-07e6-463e-8aa0-c7574d9097c9"
      },
      "source": [
        "np.where(x > 0.5)"
      ],
      "execution_count": 22,
      "outputs": [
        {
          "output_type": "execute_result",
          "data": {
            "text/plain": [
              "(array([0, 0, 0, 0, 0, 0, 0, 1, 1, 1, 1, 1, 2, 2, 2, 2, 2, 2, 2]),\n",
              " array([0, 0, 1, 1, 1, 2, 2, 0, 1, 1, 1, 2, 0, 0, 0, 1, 2, 2, 2]),\n",
              " array([0, 1, 0, 2, 3, 1, 3, 3, 0, 2, 3, 1, 0, 1, 3, 2, 1, 2, 3]))"
            ]
          },
          "metadata": {
            "tags": []
          },
          "execution_count": 22
        }
      ]
    },
    {
      "cell_type": "code",
      "metadata": {
        "id": "VUI8BD_un4Wx",
        "colab_type": "code",
        "colab": {
          "base_uri": "https://localhost:8080/",
          "height": 84
        },
        "outputId": "ee993652-49c8-4035-fd07-08f0647ca770"
      },
      "source": [
        "x[ np.where(x > 0.5) ]"
      ],
      "execution_count": 23,
      "outputs": [
        {
          "output_type": "execute_result",
          "data": {
            "text/plain": [
              "array([0.82623297, 0.69261197, 0.55546622, 0.50820504, 0.84960764,\n",
              "       0.84278118, 0.6158097 , 0.6789982 , 0.51700405, 0.84713642,\n",
              "       0.8803119 , 0.75890689, 0.66007778, 0.67126309, 0.89782132,\n",
              "       0.87844006, 0.5350955 , 0.94521929, 0.87130158])"
            ]
          },
          "metadata": {
            "tags": []
          },
          "execution_count": 23
        }
      ]
    },
    {
      "cell_type": "code",
      "metadata": {
        "id": "XCQ3f-wDn4Wz",
        "colab_type": "code",
        "colab": {}
      },
      "source": [
        ""
      ],
      "execution_count": 0,
      "outputs": []
    },
    {
      "cell_type": "code",
      "metadata": {
        "id": "drnjf3vSn4W1",
        "colab_type": "code",
        "colab": {}
      },
      "source": [
        "X = np.array( [\n",
        "    ['A11', 'A12', 'A13'],\n",
        "    ['A21', 'A22', 'A23'],\n",
        "    ['A31', 'A32', 'A33']\n",
        "] )"
      ],
      "execution_count": 0,
      "outputs": []
    },
    {
      "cell_type": "code",
      "metadata": {
        "id": "LfzuXnCNn4W3",
        "colab_type": "code",
        "colab": {
          "base_uri": "https://localhost:8080/",
          "height": 67
        },
        "outputId": "1b1afbd0-afd9-46e7-c44a-c5e41fbe6e92"
      },
      "source": [
        "X"
      ],
      "execution_count": 25,
      "outputs": [
        {
          "output_type": "execute_result",
          "data": {
            "text/plain": [
              "array([['A11', 'A12', 'A13'],\n",
              "       ['A21', 'A22', 'A23'],\n",
              "       ['A31', 'A32', 'A33']], dtype='<U3')"
            ]
          },
          "metadata": {
            "tags": []
          },
          "execution_count": 25
        }
      ]
    },
    {
      "cell_type": "code",
      "metadata": {
        "id": "MUGTCu-Cn4W5",
        "colab_type": "code",
        "colab": {
          "base_uri": "https://localhost:8080/",
          "height": 134
        },
        "outputId": "66a65b2f-5176-47d9-9d2b-7b4daf0ae543"
      },
      "source": [
        "np.transpose(X), np.transpose(X, (1,0)), X.T # --- possible to pass the index of dimension to permute"
      ],
      "execution_count": 26,
      "outputs": [
        {
          "output_type": "execute_result",
          "data": {
            "text/plain": [
              "(array([['A11', 'A21', 'A31'],\n",
              "        ['A12', 'A22', 'A32'],\n",
              "        ['A13', 'A23', 'A33']], dtype='<U3'), array([['A11', 'A21', 'A31'],\n",
              "        ['A12', 'A22', 'A32'],\n",
              "        ['A13', 'A23', 'A33']], dtype='<U3'), array([['A11', 'A21', 'A31'],\n",
              "        ['A12', 'A22', 'A32'],\n",
              "        ['A13', 'A23', 'A33']], dtype='<U3'))"
            ]
          },
          "metadata": {
            "tags": []
          },
          "execution_count": 26
        }
      ]
    },
    {
      "cell_type": "code",
      "metadata": {
        "id": "E2MixE16n4W8",
        "colab_type": "code",
        "colab": {}
      },
      "source": [
        "# From a 4x3 array the corner elements should be selected using advanced indexing. \n",
        "# Thus all elements for which the column is one of [0, 2] and the row is one of [0, 3] need to be selected. \n",
        "# To use advanced indexing one needs to select all elements explicitly. \n",
        "# Using the method explained previously one could write:\n",
        "\n",
        "x = np.array([[ 0,  1,  2],\n",
        "              [ 3,  4,  5],\n",
        "              [ 6,  7,  8],\n",
        "              [ 9, 10, 11]])"
      ],
      "execution_count": 0,
      "outputs": []
    },
    {
      "cell_type": "code",
      "metadata": {
        "id": "6PGYBtm1n4W-",
        "colab_type": "code",
        "colab": {
          "base_uri": "https://localhost:8080/",
          "height": 50
        },
        "outputId": "a0778970-c47f-4210-9682-043aa94fc837"
      },
      "source": [
        "rows = np.array([[0, 0],\n",
        "                 [3, 3]], dtype=np.intp)\n",
        "\n",
        "columns = np.array([[0, 2],\n",
        "                    [0, 2]], dtype=np.intp)\n",
        "\n",
        "x[rows, columns]"
      ],
      "execution_count": 28,
      "outputs": [
        {
          "output_type": "execute_result",
          "data": {
            "text/plain": [
              "array([[ 0,  2],\n",
              "       [ 9, 11]])"
            ]
          },
          "metadata": {
            "tags": []
          },
          "execution_count": 28
        }
      ]
    },
    {
      "cell_type": "code",
      "metadata": {
        "id": "UPAieEPen4XD",
        "colab_type": "code",
        "colab": {}
      },
      "source": [
        "a = np.arange(12)**2 # -- the first 12 square numbers"
      ],
      "execution_count": 0,
      "outputs": []
    },
    {
      "cell_type": "code",
      "metadata": {
        "id": "e4sowRlln4XF",
        "colab_type": "code",
        "colab": {
          "base_uri": "https://localhost:8080/",
          "height": 34
        },
        "outputId": "704af5d4-91c1-455c-8fe4-e2761f035898"
      },
      "source": [
        "i = np.array([1, 1, 3, 8, 5]) \n",
        "a[i]"
      ],
      "execution_count": 30,
      "outputs": [
        {
          "output_type": "execute_result",
          "data": {
            "text/plain": [
              "array([ 1,  1,  9, 64, 25])"
            ]
          },
          "metadata": {
            "tags": []
          },
          "execution_count": 30
        }
      ]
    },
    {
      "cell_type": "code",
      "metadata": {
        "id": "nIfra882n4XH",
        "colab_type": "code",
        "colab": {
          "base_uri": "https://localhost:8080/",
          "height": 50
        },
        "outputId": "c64ac602-ecae-4e26-db11-0203df28ab29"
      },
      "source": [
        "j = np.array([[3, 4], [9, 7]]) \n",
        "a[j]"
      ],
      "execution_count": 31,
      "outputs": [
        {
          "output_type": "execute_result",
          "data": {
            "text/plain": [
              "array([[ 9, 16],\n",
              "       [81, 49]])"
            ]
          },
          "metadata": {
            "tags": []
          },
          "execution_count": 31
        }
      ]
    },
    {
      "cell_type": "markdown",
      "metadata": {
        "id": "QFlLYtFjn4XJ",
        "colab_type": "text"
      },
      "source": [
        "### Reshaping tensors and mathematical operation"
      ]
    },
    {
      "cell_type": "code",
      "metadata": {
        "id": "RtZANF0Jn4XJ",
        "colab_type": "code",
        "colab": {
          "base_uri": "https://localhost:8080/",
          "height": 84
        },
        "outputId": "c2206368-5702-499a-b0ff-43ff61111af5"
      },
      "source": [
        "np.arange(24).reshape(4,6)"
      ],
      "execution_count": 32,
      "outputs": [
        {
          "output_type": "execute_result",
          "data": {
            "text/plain": [
              "array([[ 0,  1,  2,  3,  4,  5],\n",
              "       [ 6,  7,  8,  9, 10, 11],\n",
              "       [12, 13, 14, 15, 16, 17],\n",
              "       [18, 19, 20, 21, 22, 23]])"
            ]
          },
          "metadata": {
            "tags": []
          },
          "execution_count": 32
        }
      ]
    },
    {
      "cell_type": "code",
      "metadata": {
        "id": "cteV0Vyyn4XN",
        "colab_type": "code",
        "colab": {
          "base_uri": "https://localhost:8080/",
          "height": 202
        },
        "outputId": "73c9394f-13a4-4fca-feb8-1e7b74235b19"
      },
      "source": [
        "np.arange(24).reshape(4,2,3) # -- 4 pieces of 2X3 matrices"
      ],
      "execution_count": 33,
      "outputs": [
        {
          "output_type": "execute_result",
          "data": {
            "text/plain": [
              "array([[[ 0,  1,  2],\n",
              "        [ 3,  4,  5]],\n",
              "\n",
              "       [[ 6,  7,  8],\n",
              "        [ 9, 10, 11]],\n",
              "\n",
              "       [[12, 13, 14],\n",
              "        [15, 16, 17]],\n",
              "\n",
              "       [[18, 19, 20],\n",
              "        [21, 22, 23]]])"
            ]
          },
          "metadata": {
            "tags": []
          },
          "execution_count": 33
        }
      ]
    },
    {
      "cell_type": "code",
      "metadata": {
        "id": "0kxplcHqn4XQ",
        "colab_type": "code",
        "colab": {}
      },
      "source": [
        "X = np.array([[ 0,  1,  2,  3,  4,  5],\n",
        "              [ 6,  7,  8,  9, 10, 11],\n",
        "              [12, 13, 14, 15, 16, 17],\n",
        "              [18, 19, 20, 21, 22, 23]\n",
        "             ]\n",
        "            )"
      ],
      "execution_count": 0,
      "outputs": []
    },
    {
      "cell_type": "code",
      "metadata": {
        "id": "wI3d4Ydtn4XT",
        "colab_type": "code",
        "colab": {
          "base_uri": "https://localhost:8080/",
          "height": 34
        },
        "outputId": "456cfd99-4606-4618-83fe-828a51210f5a"
      },
      "source": [
        "X[:,2] # -- pick out the 3rd column"
      ],
      "execution_count": 35,
      "outputs": [
        {
          "output_type": "execute_result",
          "data": {
            "text/plain": [
              "array([ 2,  8, 14, 20])"
            ]
          },
          "metadata": {
            "tags": []
          },
          "execution_count": 35
        }
      ]
    },
    {
      "cell_type": "code",
      "metadata": {
        "id": "3ddPiql1n4XW",
        "colab_type": "code",
        "colab": {
          "base_uri": "https://localhost:8080/",
          "height": 34
        },
        "outputId": "ff93fa3d-b901-44c3-b3ec-593938c6d96f"
      },
      "source": [
        "X[1,:] # -- pick out the 2nd row"
      ],
      "execution_count": 36,
      "outputs": [
        {
          "output_type": "execute_result",
          "data": {
            "text/plain": [
              "array([ 6,  7,  8,  9, 10, 11])"
            ]
          },
          "metadata": {
            "tags": []
          },
          "execution_count": 36
        }
      ]
    },
    {
      "cell_type": "code",
      "metadata": {
        "id": "45vozZJXn4XY",
        "colab_type": "code",
        "colab": {}
      },
      "source": [
        "#np.sum??"
      ],
      "execution_count": 0,
      "outputs": []
    },
    {
      "cell_type": "code",
      "metadata": {
        "id": "JwtbLo2Ln4Xd",
        "colab_type": "code",
        "colab": {
          "base_uri": "https://localhost:8080/",
          "height": 34
        },
        "outputId": "ae1c6816-1891-44bf-b5de-9c61cd79734b"
      },
      "source": [
        "np.sum(X, axis=0), np.sum(X, axis=1) # -- algebraic operations can be carried out along particular dimension"
      ],
      "execution_count": 38,
      "outputs": [
        {
          "output_type": "execute_result",
          "data": {
            "text/plain": [
              "(array([36, 40, 44, 48, 52, 56]), array([ 15,  51,  87, 123]))"
            ]
          },
          "metadata": {
            "tags": []
          },
          "execution_count": 38
        }
      ]
    },
    {
      "cell_type": "code",
      "metadata": {
        "id": "iFqd9E4jn4Xf",
        "colab_type": "code",
        "colab": {
          "base_uri": "https://localhost:8080/",
          "height": 34
        },
        "outputId": "fef93d61-7c2d-470c-f680-17218d713f88"
      },
      "source": [
        "np.mean(X, axis=0)"
      ],
      "execution_count": 39,
      "outputs": [
        {
          "output_type": "execute_result",
          "data": {
            "text/plain": [
              "array([ 9., 10., 11., 12., 13., 14.])"
            ]
          },
          "metadata": {
            "tags": []
          },
          "execution_count": 39
        }
      ]
    },
    {
      "cell_type": "code",
      "metadata": {
        "id": "kHPLaurAn4Xm",
        "colab_type": "code",
        "colab": {
          "base_uri": "https://localhost:8080/",
          "height": 34
        },
        "outputId": "ad77e0a0-9d22-4cb0-c60d-a6c75c726ad1"
      },
      "source": [
        "np.diag(X), np.trace(X)"
      ],
      "execution_count": 40,
      "outputs": [
        {
          "output_type": "execute_result",
          "data": {
            "text/plain": [
              "(array([ 0,  7, 14, 21]), 42)"
            ]
          },
          "metadata": {
            "tags": []
          },
          "execution_count": 40
        }
      ]
    },
    {
      "cell_type": "code",
      "metadata": {
        "id": "B990o_uLn4Xo",
        "colab_type": "code",
        "colab": {}
      },
      "source": [
        "a = 2 * np.ones([2,2])\n",
        "b = 3 * np.ones([3,3])"
      ],
      "execution_count": 0,
      "outputs": []
    },
    {
      "cell_type": "code",
      "metadata": {
        "id": "M4pHHOODn4Xq",
        "colab_type": "code",
        "colab": {
          "base_uri": "https://localhost:8080/",
          "height": 84
        },
        "outputId": "ad67ea7c-390c-4b6c-86d0-fa2bb30b632f"
      },
      "source": [
        "a, b"
      ],
      "execution_count": 42,
      "outputs": [
        {
          "output_type": "execute_result",
          "data": {
            "text/plain": [
              "(array([[2., 2.],\n",
              "        [2., 2.]]), array([[3., 3., 3.],\n",
              "        [3., 3., 3.],\n",
              "        [3., 3., 3.]]))"
            ]
          },
          "metadata": {
            "tags": []
          },
          "execution_count": 42
        }
      ]
    },
    {
      "cell_type": "code",
      "metadata": {
        "id": "6D9DDnrqn4Xt",
        "colab_type": "code",
        "colab": {
          "base_uri": "https://localhost:8080/",
          "height": 84
        },
        "outputId": "446ebb33-cbd5-4331-a959-213c6f5230af"
      },
      "source": [
        "np.outer(a, b) "
      ],
      "execution_count": 43,
      "outputs": [
        {
          "output_type": "execute_result",
          "data": {
            "text/plain": [
              "array([[6., 6., 6., 6., 6., 6., 6., 6., 6.],\n",
              "       [6., 6., 6., 6., 6., 6., 6., 6., 6.],\n",
              "       [6., 6., 6., 6., 6., 6., 6., 6., 6.],\n",
              "       [6., 6., 6., 6., 6., 6., 6., 6., 6.]])"
            ]
          },
          "metadata": {
            "tags": []
          },
          "execution_count": 43
        }
      ]
    },
    {
      "cell_type": "markdown",
      "metadata": {
        "id": "k0tqAp-Qn4Xv",
        "colab_type": "text"
      },
      "source": [
        "### Merging and splitting of matrices"
      ]
    },
    {
      "cell_type": "code",
      "metadata": {
        "id": "ZQWq45XLn4Xw",
        "colab_type": "code",
        "colab": {}
      },
      "source": [
        "c, d = np.ones([4,4]), 3 * np.ones([4,4])"
      ],
      "execution_count": 0,
      "outputs": []
    },
    {
      "cell_type": "code",
      "metadata": {
        "id": "8Wgjeupvn4X0",
        "colab_type": "code",
        "colab": {
          "base_uri": "https://localhost:8080/",
          "height": 0
        },
        "outputId": "ffc65ee1-256e-40e6-e6bb-eb03419cec9f"
      },
      "source": [
        "c, d"
      ],
      "execution_count": 45,
      "outputs": [
        {
          "output_type": "execute_result",
          "data": {
            "text/plain": [
              "(array([[1., 1., 1., 1.],\n",
              "        [1., 1., 1., 1.],\n",
              "        [1., 1., 1., 1.],\n",
              "        [1., 1., 1., 1.]]), array([[3., 3., 3., 3.],\n",
              "        [3., 3., 3., 3.],\n",
              "        [3., 3., 3., 3.],\n",
              "        [3., 3., 3., 3.]]))"
            ]
          },
          "metadata": {
            "tags": []
          },
          "execution_count": 45
        }
      ]
    },
    {
      "cell_type": "code",
      "metadata": {
        "id": "oMsPE3uvn4X1",
        "colab_type": "code",
        "colab": {
          "base_uri": "https://localhost:8080/",
          "height": 0
        },
        "outputId": "63a72340-7ace-463c-a9d2-9bbebfb6b55f"
      },
      "source": [
        "np.concatenate( (c,d), axis=0 ), np.vstack( (c,d)  )"
      ],
      "execution_count": 46,
      "outputs": [
        {
          "output_type": "execute_result",
          "data": {
            "text/plain": [
              "(array([[1., 1., 1., 1.],\n",
              "        [1., 1., 1., 1.],\n",
              "        [1., 1., 1., 1.],\n",
              "        [1., 1., 1., 1.],\n",
              "        [3., 3., 3., 3.],\n",
              "        [3., 3., 3., 3.],\n",
              "        [3., 3., 3., 3.],\n",
              "        [3., 3., 3., 3.]]), array([[1., 1., 1., 1.],\n",
              "        [1., 1., 1., 1.],\n",
              "        [1., 1., 1., 1.],\n",
              "        [1., 1., 1., 1.],\n",
              "        [3., 3., 3., 3.],\n",
              "        [3., 3., 3., 3.],\n",
              "        [3., 3., 3., 3.],\n",
              "        [3., 3., 3., 3.]]))"
            ]
          },
          "metadata": {
            "tags": []
          },
          "execution_count": 46
        }
      ]
    },
    {
      "cell_type": "code",
      "metadata": {
        "id": "ZD4RqB8en4X3",
        "colab_type": "code",
        "colab": {
          "base_uri": "https://localhost:8080/",
          "height": 0
        },
        "outputId": "a609827d-947f-4832-df0b-07887917d1f7"
      },
      "source": [
        "np.concatenate( (c,d), axis=1 ), np.hstack( (c,d) )"
      ],
      "execution_count": 47,
      "outputs": [
        {
          "output_type": "execute_result",
          "data": {
            "text/plain": [
              "(array([[1., 1., 1., 1., 3., 3., 3., 3.],\n",
              "        [1., 1., 1., 1., 3., 3., 3., 3.],\n",
              "        [1., 1., 1., 1., 3., 3., 3., 3.],\n",
              "        [1., 1., 1., 1., 3., 3., 3., 3.]]),\n",
              " array([[1., 1., 1., 1., 3., 3., 3., 3.],\n",
              "        [1., 1., 1., 1., 3., 3., 3., 3.],\n",
              "        [1., 1., 1., 1., 3., 3., 3., 3.],\n",
              "        [1., 1., 1., 1., 3., 3., 3., 3.]]))"
            ]
          },
          "metadata": {
            "tags": []
          },
          "execution_count": 47
        }
      ]
    },
    {
      "cell_type": "code",
      "metadata": {
        "id": "9Tisez6Sn4X5",
        "colab_type": "code",
        "colab": {}
      },
      "source": [
        "C = np.vstack( (c,d)  )\n"
      ],
      "execution_count": 0,
      "outputs": []
    },
    {
      "cell_type": "code",
      "metadata": {
        "id": "_DrKYMRCn4X7",
        "colab_type": "code",
        "colab": {
          "base_uri": "https://localhost:8080/",
          "height": 0
        },
        "outputId": "f960ce1c-3e0e-4cd2-a536-caddc9944edd"
      },
      "source": [
        "np.vsplit(C, 4)#np.hsplit(C, 2)"
      ],
      "execution_count": 49,
      "outputs": [
        {
          "output_type": "execute_result",
          "data": {
            "text/plain": [
              "[array([[1., 1., 1., 1.],\n",
              "        [1., 1., 1., 1.]]), array([[1., 1., 1., 1.],\n",
              "        [1., 1., 1., 1.]]), array([[3., 3., 3., 3.],\n",
              "        [3., 3., 3., 3.]]), array([[3., 3., 3., 3.],\n",
              "        [3., 3., 3., 3.]])]"
            ]
          },
          "metadata": {
            "tags": []
          },
          "execution_count": 49
        }
      ]
    },
    {
      "cell_type": "markdown",
      "metadata": {
        "id": "gkWwMJHzn4X-",
        "colab_type": "text"
      },
      "source": [
        "#### application of new-axis"
      ]
    },
    {
      "cell_type": "code",
      "metadata": {
        "id": "EQHW8th2n4YA",
        "colab_type": "code",
        "colab": {
          "base_uri": "https://localhost:8080/",
          "height": 0
        },
        "outputId": "3f3231be-9c66-42c6-9410-243d509cb0e0"
      },
      "source": [
        "C.flatten()"
      ],
      "execution_count": 50,
      "outputs": [
        {
          "output_type": "execute_result",
          "data": {
            "text/plain": [
              "array([1., 1., 1., 1., 1., 1., 1., 1., 1., 1., 1., 1., 1., 1., 1., 1., 3.,\n",
              "       3., 3., 3., 3., 3., 3., 3., 3., 3., 3., 3., 3., 3., 3., 3.])"
            ]
          },
          "metadata": {
            "tags": []
          },
          "execution_count": 50
        }
      ]
    },
    {
      "cell_type": "code",
      "metadata": {
        "id": "67_GXTfXn4YF",
        "colab_type": "code",
        "colab": {
          "base_uri": "https://localhost:8080/",
          "height": 0
        },
        "outputId": "3014ce1a-973d-41c3-8fa0-f6647d0bc430"
      },
      "source": [
        "a = np.array([0.0, 10.0, 20.0, 30.0]) \n",
        "b = np.array([0.0, 1.0, 2.0]) \n",
        "a[:, np.newaxis]"
      ],
      "execution_count": 51,
      "outputs": [
        {
          "output_type": "execute_result",
          "data": {
            "text/plain": [
              "array([[ 0.],\n",
              "       [10.],\n",
              "       [20.],\n",
              "       [30.]])"
            ]
          },
          "metadata": {
            "tags": []
          },
          "execution_count": 51
        }
      ]
    },
    {
      "cell_type": "code",
      "metadata": {
        "id": "7ArQceuan4YK",
        "colab_type": "code",
        "colab": {
          "base_uri": "https://localhost:8080/",
          "height": 0
        },
        "outputId": "6b39e042-3a77-4fdb-ddc5-15d6675d9b1e"
      },
      "source": [
        "a.shape, a[:, np.newaxis].shape "
      ],
      "execution_count": 52,
      "outputs": [
        {
          "output_type": "execute_result",
          "data": {
            "text/plain": [
              "((4,), (4, 1))"
            ]
          },
          "metadata": {
            "tags": []
          },
          "execution_count": 52
        }
      ]
    },
    {
      "cell_type": "code",
      "metadata": {
        "id": "yXCfIty9n4YM",
        "colab_type": "code",
        "colab": {
          "base_uri": "https://localhost:8080/",
          "height": 0
        },
        "outputId": "e37dd996-b10f-433a-8ce8-f13d617ee0b5"
      },
      "source": [
        "a[:, np.newaxis] + b"
      ],
      "execution_count": 53,
      "outputs": [
        {
          "output_type": "execute_result",
          "data": {
            "text/plain": [
              "array([[ 0.,  1.,  2.],\n",
              "       [10., 11., 12.],\n",
              "       [20., 21., 22.],\n",
              "       [30., 31., 32.]])"
            ]
          },
          "metadata": {
            "tags": []
          },
          "execution_count": 53
        }
      ]
    },
    {
      "cell_type": "code",
      "metadata": {
        "id": "ktbtLBnQn4YP",
        "colab_type": "code",
        "colab": {}
      },
      "source": [
        "D = {'Num' + str(i) : i**2 for i in range(10)} # -- a one liner generation of dictionary"
      ],
      "execution_count": 0,
      "outputs": []
    },
    {
      "cell_type": "code",
      "metadata": {
        "id": "PcrpVgkUn4YR",
        "colab_type": "code",
        "colab": {
          "base_uri": "https://localhost:8080/",
          "height": 0
        },
        "outputId": "aeb309dc-9072-4688-c230-f448e0ac94e0"
      },
      "source": [
        "D, D['Num3']"
      ],
      "execution_count": 55,
      "outputs": [
        {
          "output_type": "execute_result",
          "data": {
            "text/plain": [
              "({'Num0': 0,\n",
              "  'Num1': 1,\n",
              "  'Num2': 4,\n",
              "  'Num3': 9,\n",
              "  'Num4': 16,\n",
              "  'Num5': 25,\n",
              "  'Num6': 36,\n",
              "  'Num7': 49,\n",
              "  'Num8': 64,\n",
              "  'Num9': 81},\n",
              " 9)"
            ]
          },
          "metadata": {
            "tags": []
          },
          "execution_count": 55
        }
      ]
    },
    {
      "cell_type": "markdown",
      "metadata": {
        "id": "xy6UWPjjn4YV",
        "colab_type": "text"
      },
      "source": [
        "### enumearte example"
      ]
    },
    {
      "cell_type": "code",
      "metadata": {
        "id": "LNPPzo_On4YV",
        "colab_type": "code",
        "colab": {
          "base_uri": "https://localhost:8080/",
          "height": 0
        },
        "outputId": "e79bf488-8a45-4326-ca1c-eb475a915726"
      },
      "source": [
        "words = [\"eat\",\"sleep\",\"repeat\"] \n",
        "for num, words in list(enumerate(words)) : \n",
        "    print(num, words)"
      ],
      "execution_count": 56,
      "outputs": [
        {
          "output_type": "stream",
          "text": [
            "0 eat\n",
            "1 sleep\n",
            "2 repeat\n"
          ],
          "name": "stdout"
        }
      ]
    },
    {
      "cell_type": "markdown",
      "metadata": {
        "id": "XYtzASHan4YY",
        "colab_type": "text"
      },
      "source": [
        "### zip example"
      ]
    },
    {
      "cell_type": "code",
      "metadata": {
        "id": "CfxhKx-Tn4YY",
        "colab_type": "code",
        "colab": {
          "base_uri": "https://localhost:8080/",
          "height": 0
        },
        "outputId": "f1485da8-a4a5-4502-ed1a-88d12e5f449a"
      },
      "source": [
        "Names = [\"Newton\",  \"Einstein\", \"Noether\", \"Dirac\", \"Feynman\" ]\n",
        "Work = ['Calculus', 'Gravity', 'Symmetry', 'Antiparticle', 'QED']\n",
        "\n",
        "for name,work in list(zip(Names,Work)) : \n",
        "    print(name, ' : ', work)"
      ],
      "execution_count": 57,
      "outputs": [
        {
          "output_type": "stream",
          "text": [
            "Newton  :  Calculus\n",
            "Einstein  :  Gravity\n",
            "Noether  :  Symmetry\n",
            "Dirac  :  Antiparticle\n",
            "Feynman  :  QED\n"
          ],
          "name": "stdout"
        }
      ]
    },
    {
      "cell_type": "markdown",
      "metadata": {
        "id": "aH07tZUln4Yc",
        "colab_type": "text"
      },
      "source": [
        "## Matplotlib plotting tool"
      ]
    },
    {
      "cell_type": "code",
      "metadata": {
        "id": "kanv7vGhn4Yd",
        "colab_type": "code",
        "colab": {}
      },
      "source": [
        "import matplotlib.pyplot as plt\n",
        "import matplotlib.colors as colors\n",
        "import matplotlib.cbook as cbook"
      ],
      "execution_count": 0,
      "outputs": []
    },
    {
      "cell_type": "code",
      "metadata": {
        "id": "tPTjmowin4Yf",
        "colab_type": "code",
        "colab": {}
      },
      "source": [
        "plt.rcParams[\"figure.figsize\"] = (10,10) # -- make the global adjustment for layouts using rcParam dictionary"
      ],
      "execution_count": 0,
      "outputs": []
    },
    {
      "cell_type": "code",
      "metadata": {
        "id": "oLqJ043yn4Yh",
        "colab_type": "code",
        "colab": {
          "base_uri": "https://localhost:8080/",
          "height": 0
        },
        "outputId": "c7455277-4886-4f6e-aeb5-201555fca6c8"
      },
      "source": [
        "\n",
        "N = 100\n",
        "X, Y = np.mgrid[-3:3:complex(0, N), -2:2:complex(0, N)]\n",
        "\n",
        "# A low hump with a spike coming out of the top right.  Needs to have\n",
        "# z/colour axis on a log scale so we see both hump and spike.  linear\n",
        "# scale only shows the spike.\n",
        "Z1 = np.exp(-(X)**2 - (Y)**2)\n",
        "Z2 = np.exp(-(X * 10)**2 - (Y * 10)**2)\n",
        "Z = Z1 + 50 * Z2\n",
        "\n",
        "fig, ax = plt.subplots(2, 1)\n",
        "\n",
        "pcm = ax[0].pcolor(X, Y, Z,\n",
        "                   norm=colors.LogNorm(vmin=Z.min(), vmax=Z.max()),\n",
        "                   cmap='PuBu_r')\n",
        "fig.colorbar(pcm, ax=ax[0], extend='max')\n",
        "\n",
        "pcm = ax[1].pcolor(X, Y, Z, cmap='PuBu_r')\n",
        "fig.colorbar(pcm, ax=ax[1], extend='max')\n",
        "plt.show()\n",
        "\n"
      ],
      "execution_count": 60,
      "outputs": [
        {
          "output_type": "display_data",
          "data": {
            "image/png": "[encoded data removed]",
            "text/plain": [
              "<Figure size 720x720 with 4 Axes>"
            ]
          },
          "metadata": {
            "tags": [],
            "needs_background": "light"
          }
        }
      ]
    },
    {
      "cell_type": "code",
      "metadata": {
        "id": "fjPbRwkDn4Yl",
        "colab_type": "code",
        "colab": {}
      },
      "source": [
        "from mpl_toolkits import mplot3d"
      ],
      "execution_count": 0,
      "outputs": []
    },
    {
      "cell_type": "code",
      "metadata": {
        "id": "UVqfLVbHn4Yn",
        "colab_type": "code",
        "colab": {
          "base_uri": "https://localhost:8080/",
          "height": 0
        },
        "outputId": "b36e4366-e882-4b0f-91d6-6386e25a0683"
      },
      "source": [
        "x = np.outer(np.linspace(-2, 2, 30), np.ones(30))\n",
        "y = x.copy().T # transpose\n",
        "z = np.cos(x ** 2 + y ** 2)\n",
        "\n",
        "fig = plt.figure()\n",
        "ax = plt.axes(projection='3d')\n",
        "\n",
        "ax.plot_surface(x, y, z,cmap='viridis', edgecolor='none')\n",
        "ax.set_title('Surface plot')\n",
        "plt.show()"
      ],
      "execution_count": 62,
      "outputs": [
        {
          "output_type": "display_data",
          "data": {
            "image/png": "[encoded data removed]",
            "text/plain": [
              "<Figure size 720x720 with 1 Axes>"
            ]
          },
          "metadata": {
            "tags": [],
            "needs_background": "light"
          }
        }
      ]
    },
    {
      "cell_type": "code",
      "metadata": {
        "id": "jWNYvRjln4Yo",
        "colab_type": "code",
        "colab": {}
      },
      "source": [
        "x"
      ],
      "execution_count": 0,
      "outputs": []
    },
    {
      "cell_type": "markdown",
      "metadata": {
        "id": "eKE8cY7an4Yq",
        "colab_type": "text"
      },
      "source": [
        "## Function\n",
        "#### example taken from https://docs.python.org/3/tutorial/controlflow.html#more-on-defining-functions"
      ]
    },
    {
      "cell_type": "code",
      "metadata": {
        "id": "ojSwimdln4Yq",
        "colab_type": "code",
        "colab": {}
      },
      "source": [
        "def parrot(voltage, state='a stiff', action='voom', type='Norwegian Blue'):\n",
        "    print(\"-- This parrot wouldn't\", action, end=' ')\n",
        "    print(\"if you put\", voltage, \"volts through it.\")\n",
        "    print(\"-- Lovely plumage, the\", type)\n",
        "    print(\"-- It's\", state, \"!\")"
      ],
      "execution_count": 0,
      "outputs": []
    },
    {
      "cell_type": "code",
      "metadata": {
        "id": "y14Ln7ron4Ys",
        "colab_type": "code",
        "colab": {}
      },
      "source": [
        "parrot(1000)                                          # 1 positional argument"
      ],
      "execution_count": 0,
      "outputs": []
    },
    {
      "cell_type": "code",
      "metadata": {
        "id": "IiOkBaw-n4Yt",
        "colab_type": "code",
        "colab": {}
      },
      "source": [
        "parrot(voltage=1000)                                  # 1 keyword argument"
      ],
      "execution_count": 0,
      "outputs": []
    },
    {
      "cell_type": "code",
      "metadata": {
        "id": "xVhSP8Yzn4Yv",
        "colab_type": "code",
        "colab": {
          "base_uri": "https://localhost:8080/",
          "height": 67
        },
        "outputId": "b59eba39-b332-4b05-dae1-9e32d51ee5da"
      },
      "source": [
        "parrot(voltage=1000000, action='VOOOOOM')             # 2 keyword arguments"
      ],
      "execution_count": 66,
      "outputs": [
        {
          "output_type": "stream",
          "text": [
            "-- This parrot wouldn't VOOOOOM if you put 1000000 volts through it.\n",
            "-- Lovely plumage, the Norwegian Blue\n",
            "-- It's a stiff !\n"
          ],
          "name": "stdout"
        }
      ]
    },
    {
      "cell_type": "code",
      "metadata": {
        "id": "MQprtK48n4Yy",
        "colab_type": "code",
        "colab": {
          "base_uri": "https://localhost:8080/",
          "height": 67
        },
        "outputId": "f4ec75d8-56ae-4fcd-e326-850611554625"
      },
      "source": [
        "parrot(action='VOOOOOM', voltage=1000000)             # 2 keyword arguments"
      ],
      "execution_count": 65,
      "outputs": [
        {
          "output_type": "stream",
          "text": [
            "-- This parrot wouldn't VOOOOOM if you put 1000000 volts through it.\n",
            "-- Lovely plumage, the Norwegian Blue\n",
            "-- It's a stiff !\n"
          ],
          "name": "stdout"
        }
      ]
    },
    {
      "cell_type": "code",
      "metadata": {
        "id": "uFmchh_ln4Yz",
        "colab_type": "code",
        "colab": {
          "base_uri": "https://localhost:8080/",
          "height": 67
        },
        "outputId": "1e894cad-0f9d-48ef-af4c-f8f8adba9d41"
      },
      "source": [
        "parrot('a million', 'bereft of life', 'jump')         # 3 positional arguments"
      ],
      "execution_count": 64,
      "outputs": [
        {
          "output_type": "stream",
          "text": [
            "-- This parrot wouldn't jump if you put a million volts through it.\n",
            "-- Lovely plumage, the Norwegian Blue\n",
            "-- It's bereft of life !\n"
          ],
          "name": "stdout"
        }
      ]
    },
    {
      "cell_type": "code",
      "metadata": {
        "id": "Ve8suJmNn4Y3",
        "colab_type": "code",
        "colab": {}
      },
      "source": [
        "parrot('a thousand', state='pushing up the daisies')  # 1 positional, 1 keyword"
      ],
      "execution_count": 0,
      "outputs": []
    },
    {
      "cell_type": "code",
      "metadata": {
        "id": "E2Oq0tU4n4Y4",
        "colab_type": "code",
        "colab": {}
      },
      "source": [
        "# -- dynamic keyword --- #\n",
        "def myFun(*argv):  \n",
        "    \n",
        "    num_List = []\n",
        "    char_List = []\n",
        "    \n",
        "    count = 0\n",
        "    \n",
        "    for arg in argv:  \n",
        "        print (arg) \n",
        "        \n",
        "        count += 1\n",
        "        \n",
        "        num_List.append(count)\n",
        "        \n",
        "        char_List.append(arg+'_'+str(count) )\n",
        "        \n",
        "        \n",
        "    return num_List, char_List"
      ],
      "execution_count": 0,
      "outputs": []
    },
    {
      "cell_type": "code",
      "metadata": {
        "id": "FQqhsyKzn4Y6",
        "colab_type": "code",
        "colab": {
          "base_uri": "https://localhost:8080/",
          "height": 84
        },
        "outputId": "0cafff52-9bd6-41be-9230-7ab08009021c"
      },
      "source": [
        "numAr, charAr = myFun('Hello', 'Welcome', 'to', 'Weizmann')  "
      ],
      "execution_count": 70,
      "outputs": [
        {
          "output_type": "stream",
          "text": [
            "Hello\n",
            "Welcome\n",
            "to\n",
            "Weizmann\n"
          ],
          "name": "stdout"
        }
      ]
    },
    {
      "cell_type": "code",
      "metadata": {
        "id": "x-S7Sbo8n4Y9",
        "colab_type": "code",
        "colab": {
          "base_uri": "https://localhost:8080/",
          "height": 34
        },
        "outputId": "0551edf6-f6ee-40ee-9ba6-25a08118442e"
      },
      "source": [
        "charAr"
      ],
      "execution_count": 71,
      "outputs": [
        {
          "output_type": "execute_result",
          "data": {
            "text/plain": [
              "['Hello_1', 'Welcome_2', 'to_3', 'Weizmann_4']"
            ]
          },
          "metadata": {
            "tags": []
          },
          "execution_count": 71
        }
      ]
    },
    {
      "cell_type": "code",
      "metadata": {
        "id": "bPZI3_9zn4Y-",
        "colab_type": "code",
        "colab": {
          "base_uri": "https://localhost:8080/",
          "height": 34
        },
        "outputId": "e970e4ce-828f-447e-b86f-cbc442c9ab1a"
      },
      "source": [
        "numAr"
      ],
      "execution_count": 72,
      "outputs": [
        {
          "output_type": "execute_result",
          "data": {
            "text/plain": [
              "[1, 2, 3, 4]"
            ]
          },
          "metadata": {
            "tags": []
          },
          "execution_count": 72
        }
      ]
    },
    {
      "cell_type": "code",
      "metadata": {
        "id": "mRkfecDGn4ZA",
        "colab_type": "code",
        "colab": {}
      },
      "source": [
        ""
      ],
      "execution_count": 0,
      "outputs": []
    },
    {
      "cell_type": "markdown",
      "metadata": {
        "id": "Uq7zBQRtn4ZB",
        "colab_type": "text"
      },
      "source": [
        "## Class in python"
      ]
    },
    {
      "cell_type": "code",
      "metadata": {
        "id": "K-ze9aixn4ZB",
        "colab_type": "code",
        "colab": {}
      },
      "source": [
        "class Customer(object):\n",
        "    \"\"\"A customer of ABC Bank with a checking account. Customers have the\n",
        "    following properties:\n",
        "\n",
        "    Attributes:\n",
        "        name: A string representing the customer's name.\n",
        "        balance: A float tracking the current balance of the customer's account.\n",
        "    \"\"\"\n",
        "\n",
        "    def __init__(self, name, balance=0.0):\n",
        "        \"\"\"Return a Customer object whose name is *name* and starting\n",
        "        balance is *balance*.\"\"\"\n",
        "        self.name = name\n",
        "        self.balance = balance\n",
        "\n",
        "    def withdraw(self, amount):\n",
        "        \"\"\"Return the balance remaining after withdrawing *amount*\n",
        "        dollars.\"\"\"\n",
        "        if amount > self.balance:\n",
        "            raise RuntimeError('Amount greater than available balance.')\n",
        "        self.balance -= amount\n",
        "        return self.balance\n",
        "\n",
        "    def deposit(self, amount):\n",
        "        \"\"\"Return the balance remaining after depositing *amount*\n",
        "        dollars.\"\"\"\n",
        "        self.balance += amount\n",
        "        return self.balance\n",
        "    \n",
        "    def balance(self,) : \n",
        "        \"return the balance\"\n",
        "        return self.balance"
      ],
      "execution_count": 0,
      "outputs": []
    },
    {
      "cell_type": "code",
      "metadata": {
        "id": "6wFsLF0Zn4ZC",
        "colab_type": "code",
        "colab": {}
      },
      "source": [
        "person1, person2, person3 = Customer('Bob'), Customer('Hari', 1000), Customer(name='Neha', balance=2000)"
      ],
      "execution_count": 0,
      "outputs": []
    },
    {
      "cell_type": "code",
      "metadata": {
        "id": "3XYKR723n4ZE",
        "colab_type": "code",
        "colab": {
          "base_uri": "https://localhost:8080/",
          "height": 34
        },
        "outputId": "5ec562f2-6e05-4842-e9e2-c97f34f311eb"
      },
      "source": [
        "person1.deposit(500)\n",
        "person1.balance"
      ],
      "execution_count": 75,
      "outputs": [
        {
          "output_type": "execute_result",
          "data": {
            "text/plain": [
              "500.0"
            ]
          },
          "metadata": {
            "tags": []
          },
          "execution_count": 75
        }
      ]
    },
    {
      "cell_type": "code",
      "metadata": {
        "id": "Mb3VUAksn4ZJ",
        "colab_type": "code",
        "colab": {
          "base_uri": "https://localhost:8080/",
          "height": 34
        },
        "outputId": "4312f2bf-8acf-4115-aa22-4f94847f6481"
      },
      "source": [
        "person2.withdraw(200)\n",
        "person2.balance"
      ],
      "execution_count": 76,
      "outputs": [
        {
          "output_type": "execute_result",
          "data": {
            "text/plain": [
              "800"
            ]
          },
          "metadata": {
            "tags": []
          },
          "execution_count": 76
        }
      ]
    },
    {
      "cell_type": "code",
      "metadata": {
        "id": "svZaUSpWn4ZN",
        "colab_type": "code",
        "colab": {}
      },
      "source": [
        "class Complex(object):\n",
        "    \n",
        "    def __init__(self, real, imag=0.0):\n",
        "        self.real = real\n",
        "        self.imag = imag\n",
        "        \n",
        "\n",
        "    def __add__(self, other):\n",
        "        return Complex(self.real + other.real,\n",
        "                       self.imag + other.imag)\n",
        "\n",
        "    def __sub__(self, other):\n",
        "        return Complex(self.real - other.real,\n",
        "                       self.imag - other.imag)\n",
        "\n",
        "    def __mul__(self, other):\n",
        "        return Complex(self.real*other.real - self.imag*other.imag,\n",
        "                       self.imag*other.real + self.real*other.imag)\n",
        "\n",
        "    def __div__(self, other):\n",
        "        s_r, s_i, o_r, o_i = self.real, self.imag, \\\n",
        "                             other.real, other.imag # short forms\n",
        "        r = float(o_r**2 + o_i**2)\n",
        "        return Complex((sr*o_r+si*o_i)/r, (si*o_r-sr*oi)/r)\n",
        "\n",
        "    def __abs__(self):\n",
        "        return sqrt(self.real**2 + self.imag**2)\n",
        "\n",
        "    def __neg__(self):   # defines -c (c is Complex)\n",
        "        return Complex(-self.real, -self.imag)\n",
        "\n",
        "    def __eq__(self, other):\n",
        "        return self.real == other.real and self.imag == other.imag\n",
        "\n",
        "    def __ne__(self, other):\n",
        "        return not self.__eq__(other)\n",
        "\n",
        "    def __str__(self):\n",
        "        return '(%g, %g)' % (self.real, self.imag)\n",
        "\n",
        "    def __repr__(self):\n",
        "        return 'Complex' + str(self)\n",
        "\n",
        "    def __pow__(self, power):\n",
        "        raise NotImplementedError \\\n",
        "              ('self**power is not yet impl. for Complex')"
      ],
      "execution_count": 0,
      "outputs": []
    },
    {
      "cell_type": "code",
      "metadata": {
        "id": "O43Hq9CEn4ZO",
        "colab_type": "code",
        "colab": {}
      },
      "source": [
        "z1 = Complex(3,4)\n",
        "z2 = Complex(4,5)"
      ],
      "execution_count": 0,
      "outputs": []
    },
    {
      "cell_type": "code",
      "metadata": {
        "id": "tRA4AvQ-n4ZR",
        "colab_type": "code",
        "colab": {}
      },
      "source": [
        "z3 = z1.__mul__(z2)"
      ],
      "execution_count": 0,
      "outputs": []
    },
    {
      "cell_type": "code",
      "metadata": {
        "id": "027lhWQmn4ZT",
        "colab_type": "code",
        "colab": {
          "base_uri": "https://localhost:8080/",
          "height": 34
        },
        "outputId": "c121c28a-b5ef-4503-9dc2-81aeac983061"
      },
      "source": [
        "z3"
      ],
      "execution_count": 80,
      "outputs": [
        {
          "output_type": "execute_result",
          "data": {
            "text/plain": [
              "Complex(-8, 31)"
            ]
          },
          "metadata": {
            "tags": []
          },
          "execution_count": 80
        }
      ]
    },
    {
      "cell_type": "code",
      "metadata": {
        "id": "1wPpTqHBn4ZU",
        "colab_type": "code",
        "colab": {
          "base_uri": "https://localhost:8080/",
          "height": 34
        },
        "outputId": "e564c1b3-64e6-4560-f5c6-4e1a8e6fc86f"
      },
      "source": [
        "z3.__repr__()"
      ],
      "execution_count": 81,
      "outputs": [
        {
          "output_type": "execute_result",
          "data": {
            "text/plain": [
              "'Complex(-8, 31)'"
            ]
          },
          "metadata": {
            "tags": []
          },
          "execution_count": 81
        }
      ]
    },
    {
      "cell_type": "code",
      "metadata": {
        "id": "ouCJF0wOn4ZX",
        "colab_type": "code",
        "colab": {}
      },
      "source": [
        ""
      ],
      "execution_count": 0,
      "outputs": []
    },
    {
      "cell_type": "code",
      "metadata": {
        "id": "lUkZI1IQn4ZZ",
        "colab_type": "code",
        "colab": {}
      },
      "source": [
        ""
      ],
      "execution_count": 0,
      "outputs": []
    }
  ]
}