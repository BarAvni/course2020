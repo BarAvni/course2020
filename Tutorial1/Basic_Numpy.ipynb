{
 "cells": [
  {
   "cell_type": "markdown",
   "metadata": {},
   "source": [
    "## Basic python and numpy arrays and their operation"
   ]
  },
  {
   "cell_type": "code",
   "execution_count": 169,
   "metadata": {},
   "outputs": [],
   "source": [
    "import numpy as np"
   ]
  },
  {
   "cell_type": "code",
   "execution_count": 170,
   "metadata": {},
   "outputs": [],
   "source": [
    "# a basic list in python \n",
    "A = [2.0, 8.1, 3.4]"
   ]
  },
  {
   "cell_type": "code",
   "execution_count": 171,
   "metadata": {},
   "outputs": [
    {
     "data": {
      "text/plain": [
       "list"
      ]
     },
     "execution_count": 171,
     "metadata": {},
     "output_type": "execute_result"
    }
   ],
   "source": [
    "type(A)"
   ]
  },
  {
   "cell_type": "code",
   "execution_count": 172,
   "metadata": {},
   "outputs": [
    {
     "name": "stdout",
     "output_type": "stream",
     "text": [
      "[2.  8.1 3.4]\n"
     ]
    }
   ],
   "source": [
    "B = np.array(A) # equivalent to B = np.array([2.0, 8.1, 3.4])\n",
    "print(B)"
   ]
  },
  {
   "cell_type": "code",
   "execution_count": 173,
   "metadata": {},
   "outputs": [
    {
     "data": {
      "text/plain": [
       "(numpy.ndarray,\n",
       " dtype('float64'),\n",
       "   C_CONTIGUOUS : True\n",
       "   F_CONTIGUOUS : True\n",
       "   OWNDATA : True\n",
       "   WRITEABLE : True\n",
       "   ALIGNED : True\n",
       "   WRITEBACKIFCOPY : False\n",
       "   UPDATEIFCOPY : False)"
      ]
     },
     "execution_count": 173,
     "metadata": {},
     "output_type": "execute_result"
    }
   ],
   "source": [
    "type(B), B.dtype, B.flags"
   ]
  },
  {
   "cell_type": "code",
   "execution_count": 174,
   "metadata": {},
   "outputs": [
    {
     "data": {
      "text/plain": [
       "[2.0, 8.1, 3.4, 6.3]"
      ]
     },
     "execution_count": 174,
     "metadata": {},
     "output_type": "execute_result"
    }
   ],
   "source": [
    "A.append(6.3)\n",
    "A"
   ]
  },
  {
   "cell_type": "code",
   "execution_count": 175,
   "metadata": {},
   "outputs": [
    {
     "data": {
      "text/plain": [
       "[2.0, 3.4, 6.3]"
      ]
     },
     "execution_count": 175,
     "metadata": {},
     "output_type": "execute_result"
    }
   ],
   "source": [
    "A.pop(1) # -- notice to remove an item from the list, one needs to pass the corresponding location index -- #\n",
    "A"
   ]
  },
  {
   "cell_type": "code",
   "execution_count": 176,
   "metadata": {},
   "outputs": [],
   "source": [
    "B\n",
    "B.sort() # -- equivalently np.sort(B) -- #"
   ]
  },
  {
   "cell_type": "code",
   "execution_count": 177,
   "metadata": {},
   "outputs": [
    {
     "data": {
      "text/plain": [
       "array([2. , 3.4, 8.1])"
      ]
     },
     "execution_count": 177,
     "metadata": {},
     "output_type": "execute_result"
    }
   ],
   "source": [
    "B"
   ]
  },
  {
   "cell_type": "code",
   "execution_count": 179,
   "metadata": {},
   "outputs": [],
   "source": [
    "#np.ndarray.sort??"
   ]
  },
  {
   "cell_type": "markdown",
   "metadata": {},
   "source": [
    "### array indexing "
   ]
  },
  {
   "cell_type": "code",
   "execution_count": 180,
   "metadata": {},
   "outputs": [],
   "source": [
    "x = np.array(['A', 'B', 'C', 'D', 'E', 'F', 'G', 'H', 'I', 'J'])"
   ]
  },
  {
   "cell_type": "code",
   "execution_count": 181,
   "metadata": {},
   "outputs": [
    {
     "data": {
      "text/plain": [
       "(10,)"
      ]
     },
     "execution_count": 181,
     "metadata": {},
     "output_type": "execute_result"
    }
   ],
   "source": [
    "x.shape"
   ]
  },
  {
   "cell_type": "markdown",
   "metadata": {},
   "source": [
    "#### <font color=blue>The basic slice syntax is $i:j:k$ where $i$ is the starting index, $j$ is the stopping index, and $k$ is the step $(k\\neq0)$. This selects the m elements (in the corresponding dimension) with index values $i, i + k, …, i + (m - 1) k$ where $m = q + (r\\neq0)$ and $q$ and $r$ are the quotient and remainder obtained by dividing $j - i$ by $k: j - i = q k + r$, so that $i + (m - 1) k < j$.</font>\n",
    "\n"
   ]
  },
  {
   "cell_type": "code",
   "execution_count": 182,
   "metadata": {},
   "outputs": [
    {
     "data": {
      "text/plain": [
       "array(['B', 'D', 'F'], dtype='<U1')"
      ]
     },
     "execution_count": 182,
     "metadata": {},
     "output_type": "execute_result"
    }
   ],
   "source": [
    "x[1:7:2] # -- \"1:7\" picks up 'B' --> 'F'. Then \":2\" picks up every 2nd element of the reduced array"
   ]
  },
  {
   "cell_type": "code",
   "execution_count": 183,
   "metadata": {},
   "outputs": [
    {
     "data": {
      "text/plain": [
       "(array(['D', 'E', 'F', 'G', 'H', 'I', 'J'], dtype='<U1'),\n",
       " array(['A', 'B', 'C'], dtype='<U1'))"
      ]
     },
     "execution_count": 183,
     "metadata": {},
     "output_type": "execute_result"
    }
   ],
   "source": [
    "x[3:], x[:3] # -- c[p:] --> all the elements starting from index p, x[:q] ---> all the elements upto index q"
   ]
  },
  {
   "cell_type": "code",
   "execution_count": 184,
   "metadata": {},
   "outputs": [
    {
     "data": {
      "text/plain": [
       "['A', 'B', 'C', 'D', 'E', 'F', 'G', 'H', 'I', 'J']"
      ]
     },
     "execution_count": 184,
     "metadata": {},
     "output_type": "execute_result"
    }
   ],
   "source": [
    "x[:3].tolist() + x[3:].tolist() # -- notice that we converted the numpy array to list.\n",
    "# --- why can't we work with the numpy.ndarray structure ? "
   ]
  },
  {
   "cell_type": "markdown",
   "metadata": {},
   "source": [
    "#### <font color=blue>Negative $i$ and $j$ are interpreted as $n + i$ and $n + j$ where $n$ is the number of elements in the corresponding dimension. Negative $k$ makes stepping go towards smaller indices.</font>"
   ]
  },
  {
   "cell_type": "code",
   "execution_count": 185,
   "metadata": {},
   "outputs": [
    {
     "data": {
      "text/plain": [
       "(array(['I', 'J'], dtype='<U1'), array(['H', 'G', 'F', 'E'], dtype='<U1'))"
      ]
     },
     "execution_count": 185,
     "metadata": {},
     "output_type": "execute_result"
    }
   ],
   "source": [
    "x[-2:10], x[-3:3:-1]"
   ]
  },
  {
   "cell_type": "code",
   "execution_count": 186,
   "metadata": {},
   "outputs": [
    {
     "data": {
      "text/plain": [
       "array(['C', 'D', 'E'], dtype='<U1')"
      ]
     },
     "execution_count": 186,
     "metadata": {},
     "output_type": "execute_result"
    }
   ],
   "source": [
    "x[[2,3,4]] # -- by passing the positions as a list, a subset of an array can be extracted"
   ]
  },
  {
   "cell_type": "code",
   "execution_count": 187,
   "metadata": {},
   "outputs": [
    {
     "data": {
      "text/plain": [
       "array([ 1,  3,  5,  7,  9, 11, 13, 15, 17, 19, 21, 23, 25, 27, 29, 31, 33,\n",
       "       35, 37, 39, 41, 43, 45, 47, 49, 51, 53, 55, 57, 59, 61, 63, 65, 67,\n",
       "       69, 71, 73, 75, 77, 79, 81, 83, 85, 87, 89, 91, 93, 95, 97, 99])"
      ]
     },
     "execution_count": 187,
     "metadata": {},
     "output_type": "execute_result"
    }
   ],
   "source": [
    "np.arange(1, 100, 2) # --- can be used for any range for fractional interval"
   ]
  },
  {
   "cell_type": "code",
   "execution_count": 188,
   "metadata": {},
   "outputs": [
    {
     "data": {
      "text/plain": [
       "array([0.        , 0.28571429, 0.57142857, 0.85714286, 1.14285714,\n",
       "       1.42857143, 1.71428571, 2.        ])"
      ]
     },
     "execution_count": 188,
     "metadata": {},
     "output_type": "execute_result"
    }
   ],
   "source": [
    "np.linspace(0., 2., 8) # ---- make equal interval of numbers "
   ]
  },
  {
   "cell_type": "markdown",
   "metadata": {},
   "source": [
    "## Higher dimensional arrays"
   ]
  },
  {
   "cell_type": "code",
   "execution_count": 189,
   "metadata": {},
   "outputs": [],
   "source": [
    "x = np.random.rand( 3,3,4 ) # -- create a rank-3 object of shape (3,3,4)"
   ]
  },
  {
   "cell_type": "code",
   "execution_count": 190,
   "metadata": {},
   "outputs": [
    {
     "data": {
      "text/plain": [
       "array([[[0.02725389, 0.88871927, 0.55463603, 0.68289692],\n",
       "        [0.66303543, 0.00979935, 0.47077238, 0.36335244],\n",
       "        [0.08064345, 0.12070451, 0.66356965, 0.10978782]],\n",
       "\n",
       "       [[0.59391473, 0.33877068, 0.49167725, 0.87973586],\n",
       "        [0.40293973, 0.37965575, 0.28460711, 0.1316848 ],\n",
       "        [0.85554821, 0.18368299, 0.72244838, 0.13050163]],\n",
       "\n",
       "       [[0.13014158, 0.18095397, 0.89833328, 0.4945746 ],\n",
       "        [0.09412386, 0.09100154, 0.37156968, 0.8950994 ],\n",
       "        [0.96542975, 0.48532534, 0.50179526, 0.52429034]]])"
      ]
     },
     "execution_count": 190,
     "metadata": {},
     "output_type": "execute_result"
    }
   ],
   "source": [
    "x"
   ]
  },
  {
   "cell_type": "code",
   "execution_count": 191,
   "metadata": {},
   "outputs": [
    {
     "data": {
      "text/plain": [
       "(array([0, 0, 0, 0, 0, 1, 1, 1, 1, 2, 2, 2, 2, 2]),\n",
       " array([0, 0, 0, 1, 2, 0, 0, 2, 2, 0, 1, 2, 2, 2]),\n",
       " array([1, 2, 3, 0, 2, 0, 3, 0, 2, 2, 3, 0, 2, 3]))"
      ]
     },
     "execution_count": 191,
     "metadata": {},
     "output_type": "execute_result"
    }
   ],
   "source": [
    "np.where(x > 0.5)"
   ]
  },
  {
   "cell_type": "code",
   "execution_count": 192,
   "metadata": {},
   "outputs": [
    {
     "data": {
      "text/plain": [
       "array([0.88871927, 0.55463603, 0.68289692, 0.66303543, 0.66356965,\n",
       "       0.59391473, 0.87973586, 0.85554821, 0.72244838, 0.89833328,\n",
       "       0.8950994 , 0.96542975, 0.50179526, 0.52429034])"
      ]
     },
     "execution_count": 192,
     "metadata": {},
     "output_type": "execute_result"
    }
   ],
   "source": [
    "x[ np.where(x > 0.5) ]"
   ]
  },
  {
   "cell_type": "code",
   "execution_count": null,
   "metadata": {},
   "outputs": [],
   "source": []
  },
  {
   "cell_type": "code",
   "execution_count": 193,
   "metadata": {},
   "outputs": [],
   "source": [
    "X = np.array( [\n",
    "    ['A11', 'A12', 'A13'],\n",
    "    ['A21', 'A22', 'A23'],\n",
    "    ['A31', 'A32', 'A33']\n",
    "] )"
   ]
  },
  {
   "cell_type": "code",
   "execution_count": 194,
   "metadata": {},
   "outputs": [
    {
     "data": {
      "text/plain": [
       "array([['A11', 'A12', 'A13'],\n",
       "       ['A21', 'A22', 'A23'],\n",
       "       ['A31', 'A32', 'A33']], dtype='<U3')"
      ]
     },
     "execution_count": 194,
     "metadata": {},
     "output_type": "execute_result"
    }
   ],
   "source": [
    "X"
   ]
  },
  {
   "cell_type": "code",
   "execution_count": 195,
   "metadata": {},
   "outputs": [
    {
     "data": {
      "text/plain": [
       "(array([['A11', 'A21', 'A31'],\n",
       "        ['A12', 'A22', 'A32'],\n",
       "        ['A13', 'A23', 'A33']], dtype='<U3'),\n",
       " array([['A11', 'A21', 'A31'],\n",
       "        ['A12', 'A22', 'A32'],\n",
       "        ['A13', 'A23', 'A33']], dtype='<U3'),\n",
       " array([['A11', 'A21', 'A31'],\n",
       "        ['A12', 'A22', 'A32'],\n",
       "        ['A13', 'A23', 'A33']], dtype='<U3'))"
      ]
     },
     "execution_count": 195,
     "metadata": {},
     "output_type": "execute_result"
    }
   ],
   "source": [
    "np.transpose(X), np.transpose(X, (1,0)), X.T # --- possible to pass the index of dimension to permute"
   ]
  },
  {
   "cell_type": "code",
   "execution_count": 196,
   "metadata": {},
   "outputs": [],
   "source": [
    "# From a 4x3 array the corner elements should be selected using advanced indexing. \n",
    "# Thus all elements for which the column is one of [0, 2] and the row is one of [0, 3] need to be selected. \n",
    "# To use advanced indexing one needs to select all elements explicitly. \n",
    "# Using the method explained previously one could write:\n",
    "\n",
    "x = np.array([[ 0,  1,  2],\n",
    "              [ 3,  4,  5],\n",
    "              [ 6,  7,  8],\n",
    "              [ 9, 10, 11]])"
   ]
  },
  {
   "cell_type": "code",
   "execution_count": 197,
   "metadata": {},
   "outputs": [
    {
     "data": {
      "text/plain": [
       "array([[ 0,  2],\n",
       "       [ 9, 11]])"
      ]
     },
     "execution_count": 197,
     "metadata": {},
     "output_type": "execute_result"
    }
   ],
   "source": [
    "rows = np.array([[0, 0],\n",
    "                 [3, 3]], dtype=np.intp)\n",
    "\n",
    "columns = np.array([[0, 2],\n",
    "                    [0, 2]], dtype=np.intp)\n",
    "\n",
    "x[rows, columns]"
   ]
  },
  {
   "cell_type": "code",
   "execution_count": 219,
   "metadata": {},
   "outputs": [],
   "source": [
    "a = np.arange(12)**2 # -- the first 12 square numbers"
   ]
  },
  {
   "cell_type": "code",
   "execution_count": 220,
   "metadata": {},
   "outputs": [
    {
     "data": {
      "text/plain": [
       "array([ 1,  1,  9, 64, 25])"
      ]
     },
     "execution_count": 220,
     "metadata": {},
     "output_type": "execute_result"
    }
   ],
   "source": [
    "i = np.array([1, 1, 3, 8, 5]) \n",
    "a[i]"
   ]
  },
  {
   "cell_type": "code",
   "execution_count": 221,
   "metadata": {},
   "outputs": [
    {
     "data": {
      "text/plain": [
       "array([[ 9, 16],\n",
       "       [81, 49]])"
      ]
     },
     "execution_count": 221,
     "metadata": {},
     "output_type": "execute_result"
    }
   ],
   "source": [
    "j = np.array([[3, 4], [9, 7]]) \n",
    "a[j]"
   ]
  },
  {
   "cell_type": "markdown",
   "metadata": {},
   "source": [
    "### Reshaping tensors and mathematical operation"
   ]
  },
  {
   "cell_type": "code",
   "execution_count": 198,
   "metadata": {},
   "outputs": [
    {
     "data": {
      "text/plain": [
       "array([[ 0,  1,  2,  3,  4,  5],\n",
       "       [ 6,  7,  8,  9, 10, 11],\n",
       "       [12, 13, 14, 15, 16, 17],\n",
       "       [18, 19, 20, 21, 22, 23]])"
      ]
     },
     "execution_count": 198,
     "metadata": {},
     "output_type": "execute_result"
    }
   ],
   "source": [
    "np.arange(24).reshape(4,6)"
   ]
  },
  {
   "cell_type": "code",
   "execution_count": 199,
   "metadata": {},
   "outputs": [
    {
     "data": {
      "text/plain": [
       "array([[[ 0,  1,  2],\n",
       "        [ 3,  4,  5]],\n",
       "\n",
       "       [[ 6,  7,  8],\n",
       "        [ 9, 10, 11]],\n",
       "\n",
       "       [[12, 13, 14],\n",
       "        [15, 16, 17]],\n",
       "\n",
       "       [[18, 19, 20],\n",
       "        [21, 22, 23]]])"
      ]
     },
     "execution_count": 199,
     "metadata": {},
     "output_type": "execute_result"
    }
   ],
   "source": [
    "np.arange(24).reshape(4,2,3) # -- 4 pieces of 2X3 matrices"
   ]
  },
  {
   "cell_type": "code",
   "execution_count": 200,
   "metadata": {},
   "outputs": [],
   "source": [
    "X = np.array([[ 0,  1,  2,  3,  4,  5],\n",
    "              [ 6,  7,  8,  9, 10, 11],\n",
    "              [12, 13, 14, 15, 16, 17],\n",
    "              [18, 19, 20, 21, 22, 23]\n",
    "             ]\n",
    "            )"
   ]
  },
  {
   "cell_type": "code",
   "execution_count": 201,
   "metadata": {},
   "outputs": [
    {
     "data": {
      "text/plain": [
       "array([ 2,  8, 14, 20])"
      ]
     },
     "execution_count": 201,
     "metadata": {},
     "output_type": "execute_result"
    }
   ],
   "source": [
    "X[:,2] # -- pick out the 3rd column"
   ]
  },
  {
   "cell_type": "code",
   "execution_count": 202,
   "metadata": {},
   "outputs": [
    {
     "data": {
      "text/plain": [
       "array([ 6,  7,  8,  9, 10, 11])"
      ]
     },
     "execution_count": 202,
     "metadata": {},
     "output_type": "execute_result"
    }
   ],
   "source": [
    "X[1,:] # -- pick out the 2nd row"
   ]
  },
  {
   "cell_type": "code",
   "execution_count": 205,
   "metadata": {},
   "outputs": [],
   "source": [
    "#np.sum??"
   ]
  },
  {
   "cell_type": "code",
   "execution_count": 206,
   "metadata": {},
   "outputs": [
    {
     "data": {
      "text/plain": [
       "(array([36, 40, 44, 48, 52, 56]), array([ 15,  51,  87, 123]))"
      ]
     },
     "execution_count": 206,
     "metadata": {},
     "output_type": "execute_result"
    }
   ],
   "source": [
    "np.sum(X, axis=0), np.sum(X, axis=1) # -- algebraic operations can be carried out along particular dimension"
   ]
  },
  {
   "cell_type": "code",
   "execution_count": 207,
   "metadata": {},
   "outputs": [
    {
     "data": {
      "text/plain": [
       "array([ 9., 10., 11., 12., 13., 14.])"
      ]
     },
     "execution_count": 207,
     "metadata": {},
     "output_type": "execute_result"
    }
   ],
   "source": [
    "np.mean(X, axis=0)"
   ]
  },
  {
   "cell_type": "code",
   "execution_count": 208,
   "metadata": {},
   "outputs": [
    {
     "data": {
      "text/plain": [
       "(array([ 0,  7, 14, 21]), 42)"
      ]
     },
     "execution_count": 208,
     "metadata": {},
     "output_type": "execute_result"
    }
   ],
   "source": [
    "np.diag(X), np.trace(X)"
   ]
  },
  {
   "cell_type": "code",
   "execution_count": 209,
   "metadata": {},
   "outputs": [],
   "source": [
    "a = 2 * np.ones([2,2])\n",
    "b = 3 * np.ones([3,3])"
   ]
  },
  {
   "cell_type": "code",
   "execution_count": 210,
   "metadata": {},
   "outputs": [
    {
     "data": {
      "text/plain": [
       "(array([[2., 2.],\n",
       "        [2., 2.]]),\n",
       " array([[3., 3., 3.],\n",
       "        [3., 3., 3.],\n",
       "        [3., 3., 3.]]))"
      ]
     },
     "execution_count": 210,
     "metadata": {},
     "output_type": "execute_result"
    }
   ],
   "source": [
    "a, b"
   ]
  },
  {
   "cell_type": "code",
   "execution_count": 211,
   "metadata": {},
   "outputs": [
    {
     "data": {
      "text/plain": [
       "array([[6., 6., 6., 6., 6., 6., 6., 6., 6.],\n",
       "       [6., 6., 6., 6., 6., 6., 6., 6., 6.],\n",
       "       [6., 6., 6., 6., 6., 6., 6., 6., 6.],\n",
       "       [6., 6., 6., 6., 6., 6., 6., 6., 6.]])"
      ]
     },
     "execution_count": 211,
     "metadata": {},
     "output_type": "execute_result"
    }
   ],
   "source": [
    "np.outer(a, b) "
   ]
  },
  {
   "cell_type": "markdown",
   "metadata": {},
   "source": [
    "### Merging and splitting of matrices"
   ]
  },
  {
   "cell_type": "code",
   "execution_count": 212,
   "metadata": {},
   "outputs": [],
   "source": [
    "c, d = np.ones([4,4]), 3 * np.ones([4,4])"
   ]
  },
  {
   "cell_type": "code",
   "execution_count": 213,
   "metadata": {},
   "outputs": [
    {
     "data": {
      "text/plain": [
       "(array([[1., 1., 1., 1.],\n",
       "        [1., 1., 1., 1.],\n",
       "        [1., 1., 1., 1.],\n",
       "        [1., 1., 1., 1.]]),\n",
       " array([[3., 3., 3., 3.],\n",
       "        [3., 3., 3., 3.],\n",
       "        [3., 3., 3., 3.],\n",
       "        [3., 3., 3., 3.]]))"
      ]
     },
     "execution_count": 213,
     "metadata": {},
     "output_type": "execute_result"
    }
   ],
   "source": [
    "c, d"
   ]
  },
  {
   "cell_type": "code",
   "execution_count": 214,
   "metadata": {},
   "outputs": [
    {
     "data": {
      "text/plain": [
       "(array([[1., 1., 1., 1.],\n",
       "        [1., 1., 1., 1.],\n",
       "        [1., 1., 1., 1.],\n",
       "        [1., 1., 1., 1.],\n",
       "        [3., 3., 3., 3.],\n",
       "        [3., 3., 3., 3.],\n",
       "        [3., 3., 3., 3.],\n",
       "        [3., 3., 3., 3.]]),\n",
       " array([[1., 1., 1., 1.],\n",
       "        [1., 1., 1., 1.],\n",
       "        [1., 1., 1., 1.],\n",
       "        [1., 1., 1., 1.],\n",
       "        [3., 3., 3., 3.],\n",
       "        [3., 3., 3., 3.],\n",
       "        [3., 3., 3., 3.],\n",
       "        [3., 3., 3., 3.]]))"
      ]
     },
     "execution_count": 214,
     "metadata": {},
     "output_type": "execute_result"
    }
   ],
   "source": [
    "np.concatenate( (c,d), axis=0 ), np.vstack( (c,d)  )"
   ]
  },
  {
   "cell_type": "code",
   "execution_count": 215,
   "metadata": {},
   "outputs": [
    {
     "data": {
      "text/plain": [
       "(array([[1., 1., 1., 1., 3., 3., 3., 3.],\n",
       "        [1., 1., 1., 1., 3., 3., 3., 3.],\n",
       "        [1., 1., 1., 1., 3., 3., 3., 3.],\n",
       "        [1., 1., 1., 1., 3., 3., 3., 3.]]),\n",
       " array([[1., 1., 1., 1., 3., 3., 3., 3.],\n",
       "        [1., 1., 1., 1., 3., 3., 3., 3.],\n",
       "        [1., 1., 1., 1., 3., 3., 3., 3.],\n",
       "        [1., 1., 1., 1., 3., 3., 3., 3.]]))"
      ]
     },
     "execution_count": 215,
     "metadata": {},
     "output_type": "execute_result"
    }
   ],
   "source": [
    "np.concatenate( (c,d), axis=1 ), np.hstack( (c,d) )"
   ]
  },
  {
   "cell_type": "code",
   "execution_count": 216,
   "metadata": {},
   "outputs": [],
   "source": [
    "C = np.vstack( (c,d)  )\n"
   ]
  },
  {
   "cell_type": "code",
   "execution_count": 217,
   "metadata": {},
   "outputs": [
    {
     "data": {
      "text/plain": [
       "[array([[1., 1., 1., 1.],\n",
       "        [1., 1., 1., 1.]]),\n",
       " array([[1., 1., 1., 1.],\n",
       "        [1., 1., 1., 1.]]),\n",
       " array([[3., 3., 3., 3.],\n",
       "        [3., 3., 3., 3.]]),\n",
       " array([[3., 3., 3., 3.],\n",
       "        [3., 3., 3., 3.]])]"
      ]
     },
     "execution_count": 217,
     "metadata": {},
     "output_type": "execute_result"
    }
   ],
   "source": [
    "np.vsplit(C, 4)#np.hsplit(C, 2)"
   ]
  },
  {
   "cell_type": "markdown",
   "metadata": {},
   "source": [
    "#### application of new-axis"
   ]
  },
  {
   "cell_type": "code",
   "execution_count": 218,
   "metadata": {},
   "outputs": [
    {
     "data": {
      "text/plain": [
       "array([1., 1., 1., 1., 1., 1., 1., 1., 1., 1., 1., 1., 1., 1., 1., 1., 3.,\n",
       "       3., 3., 3., 3., 3., 3., 3., 3., 3., 3., 3., 3., 3., 3., 3.])"
      ]
     },
     "execution_count": 218,
     "metadata": {},
     "output_type": "execute_result"
    }
   ],
   "source": [
    "C.flatten()"
   ]
  },
  {
   "cell_type": "code",
   "execution_count": 225,
   "metadata": {},
   "outputs": [
    {
     "data": {
      "text/plain": [
       "array([[ 0.],\n",
       "       [10.],\n",
       "       [20.],\n",
       "       [30.]])"
      ]
     },
     "execution_count": 225,
     "metadata": {},
     "output_type": "execute_result"
    }
   ],
   "source": [
    "a = np.array([0.0, 10.0, 20.0, 30.0]) \n",
    "b = np.array([0.0, 1.0, 2.0]) \n",
    "a[:, np.newaxis]"
   ]
  },
  {
   "cell_type": "code",
   "execution_count": 224,
   "metadata": {},
   "outputs": [
    {
     "data": {
      "text/plain": [
       "((4,), (4, 1))"
      ]
     },
     "execution_count": 224,
     "metadata": {},
     "output_type": "execute_result"
    }
   ],
   "source": [
    "a.shape, a[:, np.newaxis].shape "
   ]
  },
  {
   "cell_type": "code",
   "execution_count": 226,
   "metadata": {},
   "outputs": [
    {
     "data": {
      "text/plain": [
       "array([[ 0.,  1.,  2.],\n",
       "       [10., 11., 12.],\n",
       "       [20., 21., 22.],\n",
       "       [30., 31., 32.]])"
      ]
     },
     "execution_count": 226,
     "metadata": {},
     "output_type": "execute_result"
    }
   ],
   "source": [
    "a[:, np.newaxis] + b"
   ]
  },
  {
   "cell_type": "code",
   "execution_count": 234,
   "metadata": {},
   "outputs": [],
   "source": [
    "D = {'Num' + str(i) : i**2 for i in range(10)} # -- a one liner generation of dictionary"
   ]
  },
  {
   "cell_type": "code",
   "execution_count": 236,
   "metadata": {},
   "outputs": [
    {
     "data": {
      "text/plain": [
       "({'Num0': 0,\n",
       "  'Num1': 1,\n",
       "  'Num2': 4,\n",
       "  'Num3': 9,\n",
       "  'Num4': 16,\n",
       "  'Num5': 25,\n",
       "  'Num6': 36,\n",
       "  'Num7': 49,\n",
       "  'Num8': 64,\n",
       "  'Num9': 81},\n",
       " 9)"
      ]
     },
     "execution_count": 236,
     "metadata": {},
     "output_type": "execute_result"
    }
   ],
   "source": [
    "D, D['Num3']"
   ]
  },
  {
   "cell_type": "markdown",
   "metadata": {},
   "source": [
    "### enumearte example"
   ]
  },
  {
   "cell_type": "code",
   "execution_count": 237,
   "metadata": {},
   "outputs": [
    {
     "name": "stdout",
     "output_type": "stream",
     "text": [
      "0 eat\n",
      "1 sleep\n",
      "2 repeat\n"
     ]
    }
   ],
   "source": [
    "words = [\"eat\",\"sleep\",\"repeat\"] \n",
    "for num, words in list(enumerate(words)) : \n",
    "    print(num, words)"
   ]
  },
  {
   "cell_type": "markdown",
   "metadata": {},
   "source": [
    "### zip example"
   ]
  },
  {
   "cell_type": "code",
   "execution_count": 279,
   "metadata": {},
   "outputs": [
    {
     "name": "stdout",
     "output_type": "stream",
     "text": [
      "Newton  :  Calculus\n",
      "Einstein  :  Gravity\n",
      "Noether  :  Symmetry\n",
      "Dirac  :  Antiparticle\n",
      "Feynman  :  QED\n"
     ]
    }
   ],
   "source": [
    "Names = [\"Newton\",  \"Einstein\", \"Noether\", \"Dirac\", \"Feynman\" ]\n",
    "Work = ['Calculus', 'Gravity', 'Symmetry', 'Antiparticle', 'QED']\n",
    "\n",
    "for name,work in list(zip(Names,Work)) : \n",
    "    print(name, ' : ', work)"
   ]
  },
  {
   "cell_type": "markdown",
   "metadata": {},
   "source": [
    "## Matplotlib plotting tool"
   ]
  },
  {
   "cell_type": "code",
   "execution_count": 227,
   "metadata": {},
   "outputs": [],
   "source": [
    "import matplotlib.pyplot as plt\n",
    "import matplotlib.colors as colors\n",
    "import matplotlib.cbook as cbook"
   ]
  },
  {
   "cell_type": "code",
   "execution_count": 229,
   "metadata": {},
   "outputs": [],
   "source": [
    "plt.rcParams[\"figure.figsize\"] = (10,10) # -- make the global adjustment for layouts using rcParam dictionary"
   ]
  },
  {
   "cell_type": "code",
   "execution_count": 230,
   "metadata": {},
   "outputs": [
    {
     "data": {
      "image/png": "[encoded data removed]",
      "text/plain": [
       "<Figure size 720x720 with 4 Axes>"
      ]
     },
     "metadata": {
      "needs_background": "light"
     },
     "output_type": "display_data"
    }
   ],
   "source": [
    "\n",
    "N = 100\n",
    "X, Y = np.mgrid[-3:3:complex(0, N), -2:2:complex(0, N)]\n",
    "\n",
    "# A low hump with a spike coming out of the top right.  Needs to have\n",
    "# z/colour axis on a log scale so we see both hump and spike.  linear\n",
    "# scale only shows the spike.\n",
    "Z1 = np.exp(-(X)**2 - (Y)**2)\n",
    "Z2 = np.exp(-(X * 10)**2 - (Y * 10)**2)\n",
    "Z = Z1 + 50 * Z2\n",
    "\n",
    "fig, ax = plt.subplots(2, 1)\n",
    "\n",
    "pcm = ax[0].pcolor(X, Y, Z,\n",
    "                   norm=colors.LogNorm(vmin=Z.min(), vmax=Z.max()),\n",
    "                   cmap='PuBu_r')\n",
    "fig.colorbar(pcm, ax=ax[0], extend='max')\n",
    "\n",
    "pcm = ax[1].pcolor(X, Y, Z, cmap='PuBu_r')\n",
    "fig.colorbar(pcm, ax=ax[1], extend='max')\n",
    "plt.show()\n",
    "\n"
   ]
  },
  {
   "cell_type": "code",
   "execution_count": 231,
   "metadata": {},
   "outputs": [],
   "source": [
    "from mpl_toolkits import mplot3d"
   ]
  },
  {
   "cell_type": "code",
   "execution_count": 232,
   "metadata": {},
   "outputs": [
    {
     "data": {
      "image/png": "[encoded data removed]",
      "text/plain": [
       "<Figure size 720x720 with 1 Axes>"
      ]
     },
     "metadata": {
      "needs_background": "light"
     },
     "output_type": "display_data"
    }
   ],
   "source": [
    "x = np.outer(np.linspace(-2, 2, 30), np.ones(30))\n",
    "y = x.copy().T # transpose\n",
    "z = np.cos(x ** 2 + y ** 2)\n",
    "\n",
    "fig = plt.figure()\n",
    "ax = plt.axes(projection='3d')\n",
    "\n",
    "ax.plot_surface(x, y, z,cmap='viridis', edgecolor='none')\n",
    "ax.set_title('Surface plot')\n",
    "plt.show()"
   ]
  },
  {
   "cell_type": "code",
   "execution_count": 233,
   "metadata": {},
   "outputs": [
    {
     "data": {
      "text/plain": [
       "array([[-2.        , -2.        , -2.        , -2.        , -2.        ,\n",
       "        -2.        , -2.        , -2.        , -2.        , -2.        ,\n",
       "        -2.        , -2.        , -2.        , -2.        , -2.        ,\n",
       "        -2.        , -2.        , -2.        , -2.        , -2.        ,\n",
       "        -2.        , -2.        , -2.        , -2.        , -2.        ,\n",
       "        -2.        , -2.        , -2.        , -2.        , -2.        ],\n",
       "       [-1.86206897, -1.86206897, -1.86206897, -1.86206897, -1.86206897,\n",
       "        -1.86206897, -1.86206897, -1.86206897, -1.86206897, -1.86206897,\n",
       "        -1.86206897, -1.86206897, -1.86206897, -1.86206897, -1.86206897,\n",
       "        -1.86206897, -1.86206897, -1.86206897, -1.86206897, -1.86206897,\n",
       "        -1.86206897, -1.86206897, -1.86206897, -1.86206897, -1.86206897,\n",
       "        -1.86206897, -1.86206897, -1.86206897, -1.86206897, -1.86206897],\n",
       "       [-1.72413793, -1.72413793, -1.72413793, -1.72413793, -1.72413793,\n",
       "        -1.72413793, -1.72413793, -1.72413793, -1.72413793, -1.72413793,\n",
       "        -1.72413793, -1.72413793, -1.72413793, -1.72413793, -1.72413793,\n",
       "        -1.72413793, -1.72413793, -1.72413793, -1.72413793, -1.72413793,\n",
       "        -1.72413793, -1.72413793, -1.72413793, -1.72413793, -1.72413793,\n",
       "        -1.72413793, -1.72413793, -1.72413793, -1.72413793, -1.72413793],\n",
       "       [-1.5862069 , -1.5862069 , -1.5862069 , -1.5862069 , -1.5862069 ,\n",
       "        -1.5862069 , -1.5862069 , -1.5862069 , -1.5862069 , -1.5862069 ,\n",
       "        -1.5862069 , -1.5862069 , -1.5862069 , -1.5862069 , -1.5862069 ,\n",
       "        -1.5862069 , -1.5862069 , -1.5862069 , -1.5862069 , -1.5862069 ,\n",
       "        -1.5862069 , -1.5862069 , -1.5862069 , -1.5862069 , -1.5862069 ,\n",
       "        -1.5862069 , -1.5862069 , -1.5862069 , -1.5862069 , -1.5862069 ],\n",
       "       [-1.44827586, -1.44827586, -1.44827586, -1.44827586, -1.44827586,\n",
       "        -1.44827586, -1.44827586, -1.44827586, -1.44827586, -1.44827586,\n",
       "        -1.44827586, -1.44827586, -1.44827586, -1.44827586, -1.44827586,\n",
       "        -1.44827586, -1.44827586, -1.44827586, -1.44827586, -1.44827586,\n",
       "        -1.44827586, -1.44827586, -1.44827586, -1.44827586, -1.44827586,\n",
       "        -1.44827586, -1.44827586, -1.44827586, -1.44827586, -1.44827586],\n",
       "       [-1.31034483, -1.31034483, -1.31034483, -1.31034483, -1.31034483,\n",
       "        -1.31034483, -1.31034483, -1.31034483, -1.31034483, -1.31034483,\n",
       "        -1.31034483, -1.31034483, -1.31034483, -1.31034483, -1.31034483,\n",
       "        -1.31034483, -1.31034483, -1.31034483, -1.31034483, -1.31034483,\n",
       "        -1.31034483, -1.31034483, -1.31034483, -1.31034483, -1.31034483,\n",
       "        -1.31034483, -1.31034483, -1.31034483, -1.31034483, -1.31034483],\n",
       "       [-1.17241379, -1.17241379, -1.17241379, -1.17241379, -1.17241379,\n",
       "        -1.17241379, -1.17241379, -1.17241379, -1.17241379, -1.17241379,\n",
       "        -1.17241379, -1.17241379, -1.17241379, -1.17241379, -1.17241379,\n",
       "        -1.17241379, -1.17241379, -1.17241379, -1.17241379, -1.17241379,\n",
       "        -1.17241379, -1.17241379, -1.17241379, -1.17241379, -1.17241379,\n",
       "        -1.17241379, -1.17241379, -1.17241379, -1.17241379, -1.17241379],\n",
       "       [-1.03448276, -1.03448276, -1.03448276, -1.03448276, -1.03448276,\n",
       "        -1.03448276, -1.03448276, -1.03448276, -1.03448276, -1.03448276,\n",
       "        -1.03448276, -1.03448276, -1.03448276, -1.03448276, -1.03448276,\n",
       "        -1.03448276, -1.03448276, -1.03448276, -1.03448276, -1.03448276,\n",
       "        -1.03448276, -1.03448276, -1.03448276, -1.03448276, -1.03448276,\n",
       "        -1.03448276, -1.03448276, -1.03448276, -1.03448276, -1.03448276],\n",
       "       [-0.89655172, -0.89655172, -0.89655172, -0.89655172, -0.89655172,\n",
       "        -0.89655172, -0.89655172, -0.89655172, -0.89655172, -0.89655172,\n",
       "        -0.89655172, -0.89655172, -0.89655172, -0.89655172, -0.89655172,\n",
       "        -0.89655172, -0.89655172, -0.89655172, -0.89655172, -0.89655172,\n",
       "        -0.89655172, -0.89655172, -0.89655172, -0.89655172, -0.89655172,\n",
       "        -0.89655172, -0.89655172, -0.89655172, -0.89655172, -0.89655172],\n",
       "       [-0.75862069, -0.75862069, -0.75862069, -0.75862069, -0.75862069,\n",
       "        -0.75862069, -0.75862069, -0.75862069, -0.75862069, -0.75862069,\n",
       "        -0.75862069, -0.75862069, -0.75862069, -0.75862069, -0.75862069,\n",
       "        -0.75862069, -0.75862069, -0.75862069, -0.75862069, -0.75862069,\n",
       "        -0.75862069, -0.75862069, -0.75862069, -0.75862069, -0.75862069,\n",
       "        -0.75862069, -0.75862069, -0.75862069, -0.75862069, -0.75862069],\n",
       "       [-0.62068966, -0.62068966, -0.62068966, -0.62068966, -0.62068966,\n",
       "        -0.62068966, -0.62068966, -0.62068966, -0.62068966, -0.62068966,\n",
       "        -0.62068966, -0.62068966, -0.62068966, -0.62068966, -0.62068966,\n",
       "        -0.62068966, -0.62068966, -0.62068966, -0.62068966, -0.62068966,\n",
       "        -0.62068966, -0.62068966, -0.62068966, -0.62068966, -0.62068966,\n",
       "        -0.62068966, -0.62068966, -0.62068966, -0.62068966, -0.62068966],\n",
       "       [-0.48275862, -0.48275862, -0.48275862, -0.48275862, -0.48275862,\n",
       "        -0.48275862, -0.48275862, -0.48275862, -0.48275862, -0.48275862,\n",
       "        -0.48275862, -0.48275862, -0.48275862, -0.48275862, -0.48275862,\n",
       "        -0.48275862, -0.48275862, -0.48275862, -0.48275862, -0.48275862,\n",
       "        -0.48275862, -0.48275862, -0.48275862, -0.48275862, -0.48275862,\n",
       "        -0.48275862, -0.48275862, -0.48275862, -0.48275862, -0.48275862],\n",
       "       [-0.34482759, -0.34482759, -0.34482759, -0.34482759, -0.34482759,\n",
       "        -0.34482759, -0.34482759, -0.34482759, -0.34482759, -0.34482759,\n",
       "        -0.34482759, -0.34482759, -0.34482759, -0.34482759, -0.34482759,\n",
       "        -0.34482759, -0.34482759, -0.34482759, -0.34482759, -0.34482759,\n",
       "        -0.34482759, -0.34482759, -0.34482759, -0.34482759, -0.34482759,\n",
       "        -0.34482759, -0.34482759, -0.34482759, -0.34482759, -0.34482759],\n",
       "       [-0.20689655, -0.20689655, -0.20689655, -0.20689655, -0.20689655,\n",
       "        -0.20689655, -0.20689655, -0.20689655, -0.20689655, -0.20689655,\n",
       "        -0.20689655, -0.20689655, -0.20689655, -0.20689655, -0.20689655,\n",
       "        -0.20689655, -0.20689655, -0.20689655, -0.20689655, -0.20689655,\n",
       "        -0.20689655, -0.20689655, -0.20689655, -0.20689655, -0.20689655,\n",
       "        -0.20689655, -0.20689655, -0.20689655, -0.20689655, -0.20689655],\n",
       "       [-0.06896552, -0.06896552, -0.06896552, -0.06896552, -0.06896552,\n",
       "        -0.06896552, -0.06896552, -0.06896552, -0.06896552, -0.06896552,\n",
       "        -0.06896552, -0.06896552, -0.06896552, -0.06896552, -0.06896552,\n",
       "        -0.06896552, -0.06896552, -0.06896552, -0.06896552, -0.06896552,\n",
       "        -0.06896552, -0.06896552, -0.06896552, -0.06896552, -0.06896552,\n",
       "        -0.06896552, -0.06896552, -0.06896552, -0.06896552, -0.06896552],\n",
       "       [ 0.06896552,  0.06896552,  0.06896552,  0.06896552,  0.06896552,\n",
       "         0.06896552,  0.06896552,  0.06896552,  0.06896552,  0.06896552,\n",
       "         0.06896552,  0.06896552,  0.06896552,  0.06896552,  0.06896552,\n",
       "         0.06896552,  0.06896552,  0.06896552,  0.06896552,  0.06896552,\n",
       "         0.06896552,  0.06896552,  0.06896552,  0.06896552,  0.06896552,\n",
       "         0.06896552,  0.06896552,  0.06896552,  0.06896552,  0.06896552],\n",
       "       [ 0.20689655,  0.20689655,  0.20689655,  0.20689655,  0.20689655,\n",
       "         0.20689655,  0.20689655,  0.20689655,  0.20689655,  0.20689655,\n",
       "         0.20689655,  0.20689655,  0.20689655,  0.20689655,  0.20689655,\n",
       "         0.20689655,  0.20689655,  0.20689655,  0.20689655,  0.20689655,\n",
       "         0.20689655,  0.20689655,  0.20689655,  0.20689655,  0.20689655,\n",
       "         0.20689655,  0.20689655,  0.20689655,  0.20689655,  0.20689655],\n",
       "       [ 0.34482759,  0.34482759,  0.34482759,  0.34482759,  0.34482759,\n",
       "         0.34482759,  0.34482759,  0.34482759,  0.34482759,  0.34482759,\n",
       "         0.34482759,  0.34482759,  0.34482759,  0.34482759,  0.34482759,\n",
       "         0.34482759,  0.34482759,  0.34482759,  0.34482759,  0.34482759,\n",
       "         0.34482759,  0.34482759,  0.34482759,  0.34482759,  0.34482759,\n",
       "         0.34482759,  0.34482759,  0.34482759,  0.34482759,  0.34482759],\n",
       "       [ 0.48275862,  0.48275862,  0.48275862,  0.48275862,  0.48275862,\n",
       "         0.48275862,  0.48275862,  0.48275862,  0.48275862,  0.48275862,\n",
       "         0.48275862,  0.48275862,  0.48275862,  0.48275862,  0.48275862,\n",
       "         0.48275862,  0.48275862,  0.48275862,  0.48275862,  0.48275862,\n",
       "         0.48275862,  0.48275862,  0.48275862,  0.48275862,  0.48275862,\n",
       "         0.48275862,  0.48275862,  0.48275862,  0.48275862,  0.48275862],\n",
       "       [ 0.62068966,  0.62068966,  0.62068966,  0.62068966,  0.62068966,\n",
       "         0.62068966,  0.62068966,  0.62068966,  0.62068966,  0.62068966,\n",
       "         0.62068966,  0.62068966,  0.62068966,  0.62068966,  0.62068966,\n",
       "         0.62068966,  0.62068966,  0.62068966,  0.62068966,  0.62068966,\n",
       "         0.62068966,  0.62068966,  0.62068966,  0.62068966,  0.62068966,\n",
       "         0.62068966,  0.62068966,  0.62068966,  0.62068966,  0.62068966],\n",
       "       [ 0.75862069,  0.75862069,  0.75862069,  0.75862069,  0.75862069,\n",
       "         0.75862069,  0.75862069,  0.75862069,  0.75862069,  0.75862069,\n",
       "         0.75862069,  0.75862069,  0.75862069,  0.75862069,  0.75862069,\n",
       "         0.75862069,  0.75862069,  0.75862069,  0.75862069,  0.75862069,\n",
       "         0.75862069,  0.75862069,  0.75862069,  0.75862069,  0.75862069,\n",
       "         0.75862069,  0.75862069,  0.75862069,  0.75862069,  0.75862069],\n",
       "       [ 0.89655172,  0.89655172,  0.89655172,  0.89655172,  0.89655172,\n",
       "         0.89655172,  0.89655172,  0.89655172,  0.89655172,  0.89655172,\n",
       "         0.89655172,  0.89655172,  0.89655172,  0.89655172,  0.89655172,\n",
       "         0.89655172,  0.89655172,  0.89655172,  0.89655172,  0.89655172,\n",
       "         0.89655172,  0.89655172,  0.89655172,  0.89655172,  0.89655172,\n",
       "         0.89655172,  0.89655172,  0.89655172,  0.89655172,  0.89655172],\n",
       "       [ 1.03448276,  1.03448276,  1.03448276,  1.03448276,  1.03448276,\n",
       "         1.03448276,  1.03448276,  1.03448276,  1.03448276,  1.03448276,\n",
       "         1.03448276,  1.03448276,  1.03448276,  1.03448276,  1.03448276,\n",
       "         1.03448276,  1.03448276,  1.03448276,  1.03448276,  1.03448276,\n",
       "         1.03448276,  1.03448276,  1.03448276,  1.03448276,  1.03448276,\n",
       "         1.03448276,  1.03448276,  1.03448276,  1.03448276,  1.03448276],\n",
       "       [ 1.17241379,  1.17241379,  1.17241379,  1.17241379,  1.17241379,\n",
       "         1.17241379,  1.17241379,  1.17241379,  1.17241379,  1.17241379,\n",
       "         1.17241379,  1.17241379,  1.17241379,  1.17241379,  1.17241379,\n",
       "         1.17241379,  1.17241379,  1.17241379,  1.17241379,  1.17241379,\n",
       "         1.17241379,  1.17241379,  1.17241379,  1.17241379,  1.17241379,\n",
       "         1.17241379,  1.17241379,  1.17241379,  1.17241379,  1.17241379],\n",
       "       [ 1.31034483,  1.31034483,  1.31034483,  1.31034483,  1.31034483,\n",
       "         1.31034483,  1.31034483,  1.31034483,  1.31034483,  1.31034483,\n",
       "         1.31034483,  1.31034483,  1.31034483,  1.31034483,  1.31034483,\n",
       "         1.31034483,  1.31034483,  1.31034483,  1.31034483,  1.31034483,\n",
       "         1.31034483,  1.31034483,  1.31034483,  1.31034483,  1.31034483,\n",
       "         1.31034483,  1.31034483,  1.31034483,  1.31034483,  1.31034483],\n",
       "       [ 1.44827586,  1.44827586,  1.44827586,  1.44827586,  1.44827586,\n",
       "         1.44827586,  1.44827586,  1.44827586,  1.44827586,  1.44827586,\n",
       "         1.44827586,  1.44827586,  1.44827586,  1.44827586,  1.44827586,\n",
       "         1.44827586,  1.44827586,  1.44827586,  1.44827586,  1.44827586,\n",
       "         1.44827586,  1.44827586,  1.44827586,  1.44827586,  1.44827586,\n",
       "         1.44827586,  1.44827586,  1.44827586,  1.44827586,  1.44827586],\n",
       "       [ 1.5862069 ,  1.5862069 ,  1.5862069 ,  1.5862069 ,  1.5862069 ,\n",
       "         1.5862069 ,  1.5862069 ,  1.5862069 ,  1.5862069 ,  1.5862069 ,\n",
       "         1.5862069 ,  1.5862069 ,  1.5862069 ,  1.5862069 ,  1.5862069 ,\n",
       "         1.5862069 ,  1.5862069 ,  1.5862069 ,  1.5862069 ,  1.5862069 ,\n",
       "         1.5862069 ,  1.5862069 ,  1.5862069 ,  1.5862069 ,  1.5862069 ,\n",
       "         1.5862069 ,  1.5862069 ,  1.5862069 ,  1.5862069 ,  1.5862069 ],\n",
       "       [ 1.72413793,  1.72413793,  1.72413793,  1.72413793,  1.72413793,\n",
       "         1.72413793,  1.72413793,  1.72413793,  1.72413793,  1.72413793,\n",
       "         1.72413793,  1.72413793,  1.72413793,  1.72413793,  1.72413793,\n",
       "         1.72413793,  1.72413793,  1.72413793,  1.72413793,  1.72413793,\n",
       "         1.72413793,  1.72413793,  1.72413793,  1.72413793,  1.72413793,\n",
       "         1.72413793,  1.72413793,  1.72413793,  1.72413793,  1.72413793],\n",
       "       [ 1.86206897,  1.86206897,  1.86206897,  1.86206897,  1.86206897,\n",
       "         1.86206897,  1.86206897,  1.86206897,  1.86206897,  1.86206897,\n",
       "         1.86206897,  1.86206897,  1.86206897,  1.86206897,  1.86206897,\n",
       "         1.86206897,  1.86206897,  1.86206897,  1.86206897,  1.86206897,\n",
       "         1.86206897,  1.86206897,  1.86206897,  1.86206897,  1.86206897,\n",
       "         1.86206897,  1.86206897,  1.86206897,  1.86206897,  1.86206897],\n",
       "       [ 2.        ,  2.        ,  2.        ,  2.        ,  2.        ,\n",
       "         2.        ,  2.        ,  2.        ,  2.        ,  2.        ,\n",
       "         2.        ,  2.        ,  2.        ,  2.        ,  2.        ,\n",
       "         2.        ,  2.        ,  2.        ,  2.        ,  2.        ,\n",
       "         2.        ,  2.        ,  2.        ,  2.        ,  2.        ,\n",
       "         2.        ,  2.        ,  2.        ,  2.        ,  2.        ]])"
      ]
     },
     "execution_count": 233,
     "metadata": {},
     "output_type": "execute_result"
    }
   ],
   "source": [
    "x"
   ]
  },
  {
   "cell_type": "markdown",
   "metadata": {},
   "source": [
    "## Function\n",
    "#### example taken from https://docs.python.org/3/tutorial/controlflow.html#more-on-defining-functions"
   ]
  },
  {
   "cell_type": "code",
   "execution_count": 239,
   "metadata": {},
   "outputs": [],
   "source": [
    "def parrot(voltage, state='a stiff', action='voom', type='Norwegian Blue'):\n",
    "    print(\"-- This parrot wouldn't\", action, end=' ')\n",
    "    print(\"if you put\", voltage, \"volts through it.\")\n",
    "    print(\"-- Lovely plumage, the\", type)\n",
    "    print(\"-- It's\", state, \"!\")"
   ]
  },
  {
   "cell_type": "code",
   "execution_count": 240,
   "metadata": {},
   "outputs": [
    {
     "name": "stdout",
     "output_type": "stream",
     "text": [
      "-- This parrot wouldn't voom if you put 1000 volts through it.\n",
      "-- Lovely plumage, the Norwegian Blue\n",
      "-- It's a stiff !\n"
     ]
    }
   ],
   "source": [
    "parrot(1000)                                          # 1 positional argument"
   ]
  },
  {
   "cell_type": "code",
   "execution_count": 241,
   "metadata": {},
   "outputs": [
    {
     "name": "stdout",
     "output_type": "stream",
     "text": [
      "-- This parrot wouldn't voom if you put 1000 volts through it.\n",
      "-- Lovely plumage, the Norwegian Blue\n",
      "-- It's a stiff !\n"
     ]
    }
   ],
   "source": [
    "parrot(voltage=1000)                                  # 1 keyword argument"
   ]
  },
  {
   "cell_type": "code",
   "execution_count": 242,
   "metadata": {},
   "outputs": [
    {
     "name": "stdout",
     "output_type": "stream",
     "text": [
      "-- This parrot wouldn't VOOOOOM if you put 1000000 volts through it.\n",
      "-- Lovely plumage, the Norwegian Blue\n",
      "-- It's a stiff !\n"
     ]
    }
   ],
   "source": [
    "parrot(voltage=1000000, action='VOOOOOM')             # 2 keyword arguments"
   ]
  },
  {
   "cell_type": "code",
   "execution_count": 243,
   "metadata": {},
   "outputs": [
    {
     "name": "stdout",
     "output_type": "stream",
     "text": [
      "-- This parrot wouldn't VOOOOOM if you put 1000000 volts through it.\n",
      "-- Lovely plumage, the Norwegian Blue\n",
      "-- It's a stiff !\n"
     ]
    }
   ],
   "source": [
    "parrot(action='VOOOOOM', voltage=1000000)             # 2 keyword arguments"
   ]
  },
  {
   "cell_type": "code",
   "execution_count": 244,
   "metadata": {},
   "outputs": [
    {
     "name": "stdout",
     "output_type": "stream",
     "text": [
      "-- This parrot wouldn't jump if you put a million volts through it.\n",
      "-- Lovely plumage, the Norwegian Blue\n",
      "-- It's bereft of life !\n"
     ]
    }
   ],
   "source": [
    "parrot('a million', 'bereft of life', 'jump')         # 3 positional arguments"
   ]
  },
  {
   "cell_type": "code",
   "execution_count": 245,
   "metadata": {},
   "outputs": [
    {
     "name": "stdout",
     "output_type": "stream",
     "text": [
      "-- This parrot wouldn't voom if you put a thousand volts through it.\n",
      "-- Lovely plumage, the Norwegian Blue\n",
      "-- It's pushing up the daisies !\n"
     ]
    }
   ],
   "source": [
    "parrot('a thousand', state='pushing up the daisies')  # 1 positional, 1 keyword"
   ]
  },
  {
   "cell_type": "code",
   "execution_count": 252,
   "metadata": {},
   "outputs": [],
   "source": [
    "# -- dynamic keyword --- #\n",
    "def myFun(*argv):  \n",
    "    \n",
    "    num_List = []\n",
    "    char_List = []\n",
    "    \n",
    "    count = 0\n",
    "    \n",
    "    for arg in argv:  \n",
    "        print (arg) \n",
    "        \n",
    "        count += 1\n",
    "        \n",
    "        num_List.append(count)\n",
    "        \n",
    "        char_List.append(arg+'_'+str(count) )\n",
    "        \n",
    "        \n",
    "    return num_List, char_List"
   ]
  },
  {
   "cell_type": "code",
   "execution_count": 253,
   "metadata": {},
   "outputs": [
    {
     "name": "stdout",
     "output_type": "stream",
     "text": [
      "Hello\n",
      "Welcome\n",
      "to\n",
      "Weizmann\n"
     ]
    }
   ],
   "source": [
    "numAr, charAr = myFun('Hello', 'Welcome', 'to', 'Weizmann')  "
   ]
  },
  {
   "cell_type": "code",
   "execution_count": 254,
   "metadata": {},
   "outputs": [
    {
     "data": {
      "text/plain": [
       "['Hello_1', 'Welcome_2', 'to_3', 'Weizmann_4']"
      ]
     },
     "execution_count": 254,
     "metadata": {},
     "output_type": "execute_result"
    }
   ],
   "source": [
    "charAr"
   ]
  },
  {
   "cell_type": "code",
   "execution_count": 255,
   "metadata": {},
   "outputs": [
    {
     "data": {
      "text/plain": [
       "[1, 2, 3, 4]"
      ]
     },
     "execution_count": 255,
     "metadata": {},
     "output_type": "execute_result"
    }
   ],
   "source": [
    "numAr"
   ]
  },
  {
   "cell_type": "code",
   "execution_count": null,
   "metadata": {},
   "outputs": [],
   "source": []
  },
  {
   "cell_type": "markdown",
   "metadata": {},
   "source": [
    "## Class in python"
   ]
  },
  {
   "cell_type": "code",
   "execution_count": 286,
   "metadata": {},
   "outputs": [],
   "source": [
    "class Customer(object):\n",
    "    \"\"\"A customer of ABC Bank with a checking account. Customers have the\n",
    "    following properties:\n",
    "\n",
    "    Attributes:\n",
    "        name: A string representing the customer's name.\n",
    "        balance: A float tracking the current balance of the customer's account.\n",
    "    \"\"\"\n",
    "\n",
    "    def __init__(self, name, balance=0.0):\n",
    "        \"\"\"Return a Customer object whose name is *name* and starting\n",
    "        balance is *balance*.\"\"\"\n",
    "        self.name = name\n",
    "        self.balance = balance\n",
    "\n",
    "    def withdraw(self, amount):\n",
    "        \"\"\"Return the balance remaining after withdrawing *amount*\n",
    "        dollars.\"\"\"\n",
    "        if amount > self.balance:\n",
    "            raise RuntimeError('Amount greater than available balance.')\n",
    "        self.balance -= amount\n",
    "        return self.balance\n",
    "\n",
    "    def deposit(self, amount):\n",
    "        \"\"\"Return the balance remaining after depositing *amount*\n",
    "        dollars.\"\"\"\n",
    "        self.balance += amount\n",
    "        return self.balance\n",
    "    \n",
    "    def balance(self,) : \n",
    "        \"return the balance\"\n",
    "        return self.balance"
   ]
  },
  {
   "cell_type": "code",
   "execution_count": 287,
   "metadata": {},
   "outputs": [],
   "source": [
    "person1, person2, person3 = Customer('Bob'), Customer('Hari', 1000), Customer(name='Neha', balance=2000)"
   ]
  },
  {
   "cell_type": "code",
   "execution_count": 289,
   "metadata": {},
   "outputs": [
    {
     "data": {
      "text/plain": [
       "1000.0"
      ]
     },
     "execution_count": 289,
     "metadata": {},
     "output_type": "execute_result"
    }
   ],
   "source": [
    "person1.deposit(500)\n",
    "person1.balance"
   ]
  },
  {
   "cell_type": "code",
   "execution_count": 290,
   "metadata": {},
   "outputs": [
    {
     "data": {
      "text/plain": [
       "800"
      ]
     },
     "execution_count": 290,
     "metadata": {},
     "output_type": "execute_result"
    }
   ],
   "source": [
    "person2.withdraw(200)\n",
    "person2.balance"
   ]
  },
  {
   "cell_type": "code",
   "execution_count": 271,
   "metadata": {},
   "outputs": [],
   "source": [
    "class Complex(object):\n",
    "    \n",
    "    def __init__(self, real, imag=0.0):\n",
    "        self.real = real\n",
    "        self.imag = imag\n",
    "        \n",
    "\n",
    "    def __add__(self, other):\n",
    "        return Complex(self.real + other.real,\n",
    "                       self.imag + other.imag)\n",
    "\n",
    "    def __sub__(self, other):\n",
    "        return Complex(self.real - other.real,\n",
    "                       self.imag - other.imag)\n",
    "\n",
    "    def __mul__(self, other):\n",
    "        return Complex(self.real*other.real - self.imag*other.imag,\n",
    "                       self.imag*other.real + self.real*other.imag)\n",
    "\n",
    "    def __div__(self, other):\n",
    "        s_r, s_i, o_r, o_i = self.real, self.imag, \\\n",
    "                             other.real, other.imag # short forms\n",
    "        r = float(o_r**2 + o_i**2)\n",
    "        return Complex((sr*o_r+si*o_i)/r, (si*o_r-sr*oi)/r)\n",
    "\n",
    "    def __abs__(self):\n",
    "        return sqrt(self.real**2 + self.imag**2)\n",
    "\n",
    "    def __neg__(self):   # defines -c (c is Complex)\n",
    "        return Complex(-self.real, -self.imag)\n",
    "\n",
    "    def __eq__(self, other):\n",
    "        return self.real == other.real and self.imag == other.imag\n",
    "\n",
    "    def __ne__(self, other):\n",
    "        return not self.__eq__(other)\n",
    "\n",
    "    def __str__(self):\n",
    "        return '(%g, %g)' % (self.real, self.imag)\n",
    "\n",
    "    def __repr__(self):\n",
    "        return 'Complex' + str(self)\n",
    "\n",
    "    def __pow__(self, power):\n",
    "        raise NotImplementedError \\\n",
    "              ('self**power is not yet impl. for Complex')"
   ]
  },
  {
   "cell_type": "code",
   "execution_count": 291,
   "metadata": {},
   "outputs": [],
   "source": [
    "z1 = Complex(3,4)\n",
    "z2 = Complex(4,5)"
   ]
  },
  {
   "cell_type": "code",
   "execution_count": 292,
   "metadata": {},
   "outputs": [],
   "source": [
    "z3 = z1.__mul__(z2)"
   ]
  },
  {
   "cell_type": "code",
   "execution_count": 293,
   "metadata": {},
   "outputs": [
    {
     "data": {
      "text/plain": [
       "Complex(-8, 31)"
      ]
     },
     "execution_count": 293,
     "metadata": {},
     "output_type": "execute_result"
    }
   ],
   "source": [
    "z3"
   ]
  },
  {
   "cell_type": "code",
   "execution_count": 295,
   "metadata": {},
   "outputs": [
    {
     "data": {
      "text/plain": [
       "'Complex(-8, 31)'"
      ]
     },
     "execution_count": 295,
     "metadata": {},
     "output_type": "execute_result"
    }
   ],
   "source": [
    "z3.__repr__()"
   ]
  },
  {
   "cell_type": "code",
   "execution_count": null,
   "metadata": {},
   "outputs": [],
   "source": []
  },
  {
   "cell_type": "code",
   "execution_count": null,
   "metadata": {},
   "outputs": [],
   "source": []
  }
 ],
 "metadata": {
  "kernelspec": {
   "display_name": "Python 3",
   "language": "python",
   "name": "python3"
  },
  "language_info": {
   "codemirror_mode": {
    "name": "ipython",
    "version": 3
   },
   "file_extension": ".py",
   "mimetype": "text/x-python",
   "name": "python",
   "nbconvert_exporter": "python",
   "pygments_lexer": "ipython3",
   "version": "3.7.1"
  }
 },
 "nbformat": 4,
 "nbformat_minor": 4
}
