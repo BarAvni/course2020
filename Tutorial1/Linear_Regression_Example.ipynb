{
  "nbformat": 4,
  "nbformat_minor": 0,
  "metadata": {
    "kernelspec": {
      "display_name": "Python 3",
      "language": "python",
      "name": "python3"
    },
    "language_info": {
      "codemirror_mode": {
        "name": "ipython",
        "version": 3
      },
      "file_extension": ".py",
      "mimetype": "text/x-python",
      "name": "python",
      "nbconvert_exporter": "python",
      "pygments_lexer": "ipython3",
      "version": "3.7.4"
    },
    "colab": {
      "name": "Linear_Regression_Example.ipynb",
      "provenance": [],
      "include_colab_link": true
    }
  },
  "cells": [
    {
      "cell_type": "markdown",
      "metadata": {
        "id": "view-in-github",
        "colab_type": "text"
      },
      "source": [
        "<a href=\"https://colab.research.google.com/github/WeizmannML/course2020/blob/master/Tutorial1/Linear_Regression_Example.ipynb\" target=\"_parent\"><img src=\"https://colab.research.google.com/assets/colab-badge.svg\" alt=\"Open In Colab\"/></a>"
      ]
    },
    {
      "cell_type": "code",
      "metadata": {
        "id": "wGhfT4-hJ34u",
        "colab_type": "code",
        "colab": {}
      },
      "source": [
        "import numpy as np\n",
        "from sklearn.datasets import load_boston\n",
        "import matplotlib.pyplot as plt\n",
        "\n",
        "from sklearn.model_selection import train_test_split"
      ],
      "execution_count": 0,
      "outputs": []
    },
    {
      "cell_type": "code",
      "metadata": {
        "id": "hQ54RIGH7B_j",
        "colab_type": "code",
        "outputId": "56e3b138-55ef-4f48-fcbb-b2431d8f6f79",
        "colab": {
          "base_uri": "https://localhost:8080/",
          "height": 52
        }
      },
      "source": [
        "import matplotlib.pyplot as plt\n",
        "import pandas as pd\n",
        "import seaborn as sn\n",
        "\n",
        "plt.rcParams[\"figure.figsize\"] = (10,10)\n"
      ],
      "execution_count": 2,
      "outputs": [
        {
          "output_type": "stream",
          "text": [
            "/usr/local/lib/python3.6/dist-packages/statsmodels/tools/_testing.py:19: FutureWarning: pandas.util.testing is deprecated. Use the functions in the public API at pandas.testing instead.\n",
            "  import pandas.util.testing as tm\n"
          ],
          "name": "stderr"
        }
      ]
    },
    {
      "cell_type": "markdown",
      "metadata": {
        "id": "l5Nnl_GWJ34y",
        "colab_type": "text"
      },
      "source": [
        "### Load the dataset"
      ]
    },
    {
      "cell_type": "markdown",
      "metadata": {
        "id": "dX1vzNYL8kKT",
        "colab_type": "text"
      },
      "source": [
        "Lets make a dataset where $y = x +  \\frac{3}{10} sin(x) + \n",
        "\\frac{1}{10} \\Big( log(x) \\Big)^2 + \\epsilon$,  where $\\epsilon$ is a random number"
      ]
    },
    {
      "cell_type": "code",
      "metadata": {
        "id": "0b1ISwAlJ34z",
        "colab_type": "code",
        "colab": {}
      },
      "source": [
        ""
      ],
      "execution_count": 0,
      "outputs": []
    },
    {
      "cell_type": "code",
      "metadata": {
        "id": "Qmn1gBK7J349",
        "colab_type": "code",
        "colab": {}
      },
      "source": [
        "N_data = 5000\n",
        "\n",
        "data_x = np.linspace(1.0, 10.0, N_data)[:, np.newaxis]\n",
        "data_y = data_x + 0.2*np.random.randn(N_data,1) + 0.3*np.sin(data_x) + 1e-1  * np.log( data_x ) **2\n",
        "#data_y = data_x + 0.1*np.random.randn(N_data,1) "
      ],
      "execution_count": 0,
      "outputs": []
    },
    {
      "cell_type": "code",
      "metadata": {
        "id": "AH3f5Jab6jDg",
        "colab_type": "code",
        "outputId": "ffa7346f-c126-496a-aaa8-ec32408fa03a",
        "colab": {
          "base_uri": "https://localhost:8080/",
          "height": 35
        }
      },
      "source": [
        "data_x.shape, data_y.shape"
      ],
      "execution_count": 4,
      "outputs": [
        {
          "output_type": "execute_result",
          "data": {
            "text/plain": [
              "((5000, 1), (5000, 1))"
            ]
          },
          "metadata": {
            "tags": []
          },
          "execution_count": 4
        }
      ]
    },
    {
      "cell_type": "code",
      "metadata": {
        "id": "Y3H21tCd6occ",
        "colab_type": "code",
        "outputId": "d77bbf08-c71f-4d07-a15c-0c2e2e1c4e18",
        "colab": {
          "base_uri": "https://localhost:8080/",
          "height": 623
        }
      },
      "source": [
        "plt.plot( data_x.flatten(), data_y.flatten()  )\n",
        "plt.xlabel('X')\n",
        "plt.ylabel('Y')"
      ],
      "execution_count": 5,
      "outputs": [
        {
          "output_type": "execute_result",
          "data": {
            "text/plain": [
              "Text(0, 0.5, 'Y')"
            ]
          },
          "metadata": {
            "tags": []
          },
          "execution_count": 5
        },
        {
          "output_type": "display_data",
          "data": {
            "image/png": "[encoded data removed]",
            "text/plain": [
              "<Figure size 720x720 with 1 Axes>"
            ]
          },
          "metadata": {
            "tags": [],
            "needs_background": "light"
          }
        }
      ]
    },
    {
      "cell_type": "code",
      "metadata": {
        "id": "rfClhNICJ35A",
        "colab_type": "code",
        "colab": {}
      },
      "source": [
        ""
      ],
      "execution_count": 0,
      "outputs": []
    },
    {
      "cell_type": "markdown",
      "metadata": {
        "id": "wh4mQnHfUIEC",
        "colab_type": "text"
      },
      "source": [
        "### Make a train-test split of the available dataset"
      ]
    },
    {
      "cell_type": "code",
      "metadata": {
        "id": "wLx8CIfjT5BO",
        "colab_type": "code",
        "colab": {}
      },
      "source": [
        "X_train, X_test, y_train, y_test = train_test_split(data_x, data_y, test_size=0.2, random_state=42)"
      ],
      "execution_count": 0,
      "outputs": []
    },
    {
      "cell_type": "code",
      "metadata": {
        "id": "1Z1kanVfrcZz",
        "colab_type": "code",
        "outputId": "4e5b6f25-86dd-4799-efb9-8ef5e7ab7e43",
        "colab": {
          "base_uri": "https://localhost:8080/",
          "height": 35
        }
      },
      "source": [
        "X_train.shape, y_train.shape"
      ],
      "execution_count": 7,
      "outputs": [
        {
          "output_type": "execute_result",
          "data": {
            "text/plain": [
              "((4000, 1), (4000, 1))"
            ]
          },
          "metadata": {
            "tags": []
          },
          "execution_count": 7
        }
      ]
    },
    {
      "cell_type": "markdown",
      "metadata": {
        "id": "SRZs8EJlV5C7",
        "colab_type": "text"
      },
      "source": [
        "Define the Loss function \\\\\n",
        "$L = \\frac{1}{2n} \\sum_{i=1}^n \\Big( y_i^{target} - y_i^{pred} \\Big)^2$"
      ]
    },
    {
      "cell_type": "code",
      "metadata": {
        "id": "ui7xuvZwJ35H",
        "colab_type": "code",
        "colab": {}
      },
      "source": [
        "# --- declare the L2 distance function between target & prefiction --- #\n",
        "def compute_Loss(y_tar, y_pred):\n",
        "\n",
        "    return 0.5 * np.mean( pow((y_pred- y_tar),2) )"
      ],
      "execution_count": 0,
      "outputs": []
    },
    {
      "cell_type": "code",
      "metadata": {
        "id": "z2ShSXoPNtzQ",
        "colab_type": "code",
        "colab": {}
      },
      "source": [
        ""
      ],
      "execution_count": 0,
      "outputs": []
    },
    {
      "cell_type": "markdown",
      "metadata": {
        "id": "XFP-juUQWzLZ",
        "colab_type": "text"
      },
      "source": [
        "For a liner regression $y = Wx + b$ \\\\\n",
        "So, $\\frac{\\partial L}{\\partial W} = \\frac{1}{n} \\sum_{i=1}^n \\Big( y_i - y_i^{pred} \\Big).x_i$ \\\\\n",
        "$\\frac{\\partial L}{\\partial b} = \\frac{1}{n} \\sum_{i=1}^n \\Big( y_i - y_i^{pred} \\Big)$"
      ]
    },
    {
      "cell_type": "markdown",
      "metadata": {
        "id": "Mc2VFsArYZmv",
        "colab_type": "text"
      },
      "source": [
        "The weights are updated following the rule : \\\\\n",
        "$W = W - \\eta \\frac{\\partial L}{\\partial W} $ \\\\\n",
        "$b = b - \\eta \\frac{\\partial L}{\\partial b} $ \\\\\n",
        "where $\\eta$ is the learning rate"
      ]
    },
    {
      "cell_type": "code",
      "metadata": {
        "id": "6t-uFAlQzHBh",
        "colab_type": "code",
        "colab": {}
      },
      "source": [
        "tolerance = 1e-7 # numerical value to check if the gradient vanishes"
      ],
      "execution_count": 0,
      "outputs": []
    },
    {
      "cell_type": "code",
      "metadata": {
        "id": "43T8xz2xJ35K",
        "colab_type": "code",
        "colab": {}
      },
      "source": [
        "class LinearRegression():\n",
        "    def __init__(self, X, y, lr=0.001):\n",
        "\n",
        "        self.lr = lr\n",
        "        self.n_samples = len(y)\n",
        "        self.n_features = X.shape[1]\n",
        "        self.X = X\n",
        "        self.y = y\n",
        "        self.W = np.ones( (self.n_features ,1) )\n",
        "        self.b = np.zeros( (1,1) )\n",
        "\n",
        "    def fit(self, n_iter=1500): \n",
        "\n",
        "          for i in range(n_iter):\n",
        "\n",
        "              y_pred = ( self.X ).dot( self.W)  + self.b\n",
        "\n",
        "              loss = compute_Loss( self.y, y_pred )\n",
        "\n",
        "              grad_weight =np.dot((y_pred-self.y).T,X_train)/self.n_samples\n",
        "\n",
        "              grad_bias = np.mean(y_pred- self.y)\n",
        "\n",
        "              if( abs( np.sum(grad_weight) ) < tolerance and abs(grad_bias) < tolerance ) : break\n",
        "\n",
        "              self.W = self.W - self.lr * grad_weight.T\n",
        "              self.b = self.b - self.lr * grad_bias\n",
        "\n",
        "\n",
        "    def predict(self, X) : \n",
        "\n",
        "         y_pred = ( X ).dot( self.W)  + self.b\n",
        "\n",
        "         return y_pred\n",
        "\n",
        "    def params(self) : \n",
        "\n",
        "         weight_dict = {}\n",
        "         weight_dict['weight'] = self.W\n",
        "         weight_dict['bias'] = self.b\n",
        "\n",
        "         return weight_dict"
      ],
      "execution_count": 0,
      "outputs": []
    },
    {
      "cell_type": "code",
      "metadata": {
        "id": "OxYeU2eMFEyL",
        "colab_type": "code",
        "colab": {}
      },
      "source": [
        "#del learn"
      ],
      "execution_count": 0,
      "outputs": []
    },
    {
      "cell_type": "code",
      "metadata": {
        "id": "bjhNyV4d0pcm",
        "colab_type": "code",
        "colab": {}
      },
      "source": [
        "learn = LinearRegression(X_train, y_train, lr=1e-4)"
      ],
      "execution_count": 0,
      "outputs": []
    },
    {
      "cell_type": "code",
      "metadata": {
        "id": "Bh_8ERrX02df",
        "colab_type": "code",
        "colab": {}
      },
      "source": [
        "learn.fit(n_iter=1000)"
      ],
      "execution_count": 0,
      "outputs": []
    },
    {
      "cell_type": "code",
      "metadata": {
        "id": "vHCS3DIp2345",
        "colab_type": "code",
        "colab": {}
      },
      "source": [
        "y_pred = learn.predict( X_test)"
      ],
      "execution_count": 0,
      "outputs": []
    },
    {
      "cell_type": "code",
      "metadata": {
        "id": "DJ2sRPt03Bm_",
        "colab_type": "code",
        "outputId": "3a2ff933-5a69-417a-9be0-b6b001778c63",
        "colab": {
          "base_uri": "https://localhost:8080/",
          "height": 35
        }
      },
      "source": [
        "y_pred.shape, y_test.shape"
      ],
      "execution_count": 15,
      "outputs": [
        {
          "output_type": "execute_result",
          "data": {
            "text/plain": [
              "((1000, 1), (1000, 1))"
            ]
          },
          "metadata": {
            "tags": []
          },
          "execution_count": 15
        }
      ]
    },
    {
      "cell_type": "code",
      "metadata": {
        "id": "Dqk0U-8i3Hr9",
        "colab_type": "code",
        "outputId": "64ea32d9-25f0-49b2-8902-51967084e74a",
        "colab": {
          "base_uri": "https://localhost:8080/",
          "height": 623
        }
      },
      "source": [
        "plt.scatter( y_test.flatten(), y_pred.flatten()  )\n",
        "plt.xlabel('Target')\n",
        "plt.ylabel('Prediction')\n",
        "\n",
        "plt.plot( np.linspace(1,12, 1000), np.linspace(1,12, 1000), color='r', linewidth=1.5 )"
      ],
      "execution_count": 16,
      "outputs": [
        {
          "output_type": "execute_result",
          "data": {
            "text/plain": [
              "[<matplotlib.lines.Line2D at 0x7f6256a414e0>]"
            ]
          },
          "metadata": {
            "tags": []
          },
          "execution_count": 16
        },
        {
          "output_type": "display_data",
          "data": {
            "image/png": "[encoded data removed]",
            "text/plain": [
              "<Figure size 720x720 with 1 Axes>"
            ]
          },
          "metadata": {
            "tags": [],
            "needs_background": "light"
          }
        }
      ]
    },
    {
      "cell_type": "code",
      "metadata": {
        "id": "obNqI0G5V_sA",
        "colab_type": "code",
        "colab": {
          "base_uri": "https://localhost:8080/",
          "height": 35
        },
        "outputId": "361f727c-e4be-4a1e-adf3-fb994dba4df4"
      },
      "source": [
        "learn.params()"
      ],
      "execution_count": 17,
      "outputs": [
        {
          "output_type": "execute_result",
          "data": {
            "text/plain": [
              "{'bias': array([[0.00790276]]), 'weight': array([[1.0567979]])}"
            ]
          },
          "metadata": {
            "tags": []
          },
          "execution_count": 17
        }
      ]
    },
    {
      "cell_type": "code",
      "metadata": {
        "id": "9lQFV-u5UqKv",
        "colab_type": "code",
        "outputId": "731c48b9-c1a3-4214-f774-a91034aac336",
        "colab": {
          "base_uri": "https://localhost:8080/",
          "height": 34
        }
      },
      "source": [
        "np.log(8)"
      ],
      "execution_count": 0,
      "outputs": [
        {
          "output_type": "execute_result",
          "data": {
            "text/plain": [
              "2.0794415416798357"
            ]
          },
          "metadata": {
            "tags": []
          },
          "execution_count": 19
        }
      ]
    },
    {
      "cell_type": "code",
      "metadata": {
        "id": "CVXII3kSZc41",
        "colab_type": "code",
        "colab": {}
      },
      "source": [
        ""
      ],
      "execution_count": 0,
      "outputs": []
    }
  ]
}