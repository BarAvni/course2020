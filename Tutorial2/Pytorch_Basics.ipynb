{
  "nbformat": 4,
  "nbformat_minor": 0,
  "metadata": {
    "kernelspec": {
      "display_name": "Python 3",
      "language": "python",
      "name": "python3"
    },
    "language_info": {
      "codemirror_mode": {
        "name": "ipython",
        "version": 3
      },
      "file_extension": ".py",
      "mimetype": "text/x-python",
      "name": "python",
      "nbconvert_exporter": "python",
      "pygments_lexer": "ipython3",
      "version": "3.7.6"
    },
    "colab": {
      "name": "Pytorch_Basics.ipynb",
      "provenance": [],
      "include_colab_link": true
    }
  },
  "cells": [
    {
      "cell_type": "markdown",
      "metadata": {
        "id": "view-in-github",
        "colab_type": "text"
      },
      "source": [
        "<a href=\"https://colab.research.google.com/github/WeizmannML/course2020/blob/master/Tutorial2/Pytorch_Basics.ipynb\" target=\"_parent\"><img src=\"https://colab.research.google.com/assets/colab-badge.svg\" alt=\"Open In Colab\"/></a>"
      ]
    },
    {
      "cell_type": "markdown",
      "metadata": {
        "id": "N2TQSoSFmMMK",
        "colab_type": "text"
      },
      "source": [
        "### <font color=blue>Pytorch allows us to use automatic differentiation & use the power of GPU </font>\n",
        "#### All the code snippets in the following example are taken from https://pytorch.org/tutorials/beginner/pytorch_with_examples.html \n",
        "#### Other libraries like tensorflow or JAX allows us to do the same. "
      ]
    },
    {
      "cell_type": "code",
      "metadata": {
        "id": "2GkMHQccmMML",
        "colab_type": "code",
        "colab": {}
      },
      "source": [
        "from __future__ import print_function\n",
        "import torch"
      ],
      "execution_count": 0,
      "outputs": []
    },
    {
      "cell_type": "code",
      "metadata": {
        "id": "0G5GPXd-mMMQ",
        "colab_type": "code",
        "colab": {},
        "outputId": "445bf4b6-fad6-4835-9e9b-2c608d1d9a0d"
      },
      "source": [
        "torch.__version__"
      ],
      "execution_count": 0,
      "outputs": [
        {
          "output_type": "execute_result",
          "data": {
            "text/plain": [
              "'1.5.0'"
            ]
          },
          "metadata": {
            "tags": []
          },
          "execution_count": 2
        }
      ]
    },
    {
      "cell_type": "code",
      "metadata": {
        "id": "vTs2LByDmMMU",
        "colab_type": "code",
        "colab": {}
      },
      "source": [
        "import os, sys\n",
        "import numpy as np\n",
        "os.environ[\"CUDA_VISIBLE_DEVICES\"]=\"0\""
      ],
      "execution_count": 0,
      "outputs": []
    },
    {
      "cell_type": "code",
      "metadata": {
        "id": "fmJN6ylSmMMY",
        "colab_type": "code",
        "colab": {}
      },
      "source": [
        "# ----- for automatic detection of CPU vs GPU device ---------- #\n",
        "cuda_device = torch.device('cuda:0' if torch.cuda.is_available() else 'cpu' )"
      ],
      "execution_count": 0,
      "outputs": []
    },
    {
      "cell_type": "markdown",
      "metadata": {
        "id": "-_zoJfb4mMMa",
        "colab_type": "text"
      },
      "source": [
        "#### The basic working objects are torch.Tensors "
      ]
    },
    {
      "cell_type": "code",
      "metadata": {
        "id": "w2vHUJQ1mMMb",
        "colab_type": "code",
        "colab": {}
      },
      "source": [
        "a = torch.tensor([[1., -1.], [1., -1.]])"
      ],
      "execution_count": 0,
      "outputs": []
    },
    {
      "cell_type": "code",
      "metadata": {
        "id": "yHoBQSERmMMd",
        "colab_type": "code",
        "colab": {}
      },
      "source": [
        "b = torch.tensor(np.array([[1, 2, 3], [4, 5, 6]]))"
      ],
      "execution_count": 0,
      "outputs": []
    },
    {
      "cell_type": "code",
      "metadata": {
        "id": "nkUU6XufmMMh",
        "colab_type": "code",
        "colab": {},
        "outputId": "428efa9b-91c4-4000-859d-4c1dc7a8a8a2"
      },
      "source": [
        "type(a), type(b)"
      ],
      "execution_count": 0,
      "outputs": [
        {
          "output_type": "execute_result",
          "data": {
            "text/plain": [
              "(torch.Tensor, torch.Tensor)"
            ]
          },
          "metadata": {
            "tags": []
          },
          "execution_count": 16
        }
      ]
    },
    {
      "cell_type": "code",
      "metadata": {
        "id": "MriBZa40mMMl",
        "colab_type": "code",
        "colab": {},
        "outputId": "be387738-3925-4631-e475-52d35496468e"
      },
      "source": [
        "x = torch.zeros(5, 3, dtype=torch.long)\n",
        "print(x)"
      ],
      "execution_count": 0,
      "outputs": [
        {
          "output_type": "stream",
          "text": [
            "tensor([[0, 0, 0],\n",
            "        [0, 0, 0],\n",
            "        [0, 0, 0],\n",
            "        [0, 0, 0],\n",
            "        [0, 0, 0]])\n"
          ],
          "name": "stdout"
        }
      ]
    },
    {
      "cell_type": "code",
      "metadata": {
        "id": "LBBvRwhHmMMo",
        "colab_type": "code",
        "colab": {},
        "outputId": "616e854b-88eb-4c63-9e39-278c11c856fe"
      },
      "source": [
        "x = x.new_ones(5, 3, dtype=torch.double, device=cuda_device)      # new_* methods take in sizes\n",
        "print(x)"
      ],
      "execution_count": 0,
      "outputs": [
        {
          "output_type": "stream",
          "text": [
            "tensor([[1., 1., 1.],\n",
            "        [1., 1., 1.],\n",
            "        [1., 1., 1.],\n",
            "        [1., 1., 1.],\n",
            "        [1., 1., 1.]], dtype=torch.float64)\n"
          ],
          "name": "stdout"
        }
      ]
    },
    {
      "cell_type": "code",
      "metadata": {
        "id": "6GUgfdRgmMMw",
        "colab_type": "code",
        "colab": {},
        "outputId": "3aa8d2b0-c148-405f-bfd0-034787bbcd63"
      },
      "source": [
        "x.device ### equivalently can be done as x = x.to(cuda_device)"
      ],
      "execution_count": 0,
      "outputs": [
        {
          "output_type": "execute_result",
          "data": {
            "text/plain": [
              "device(type='cpu')"
            ]
          },
          "metadata": {
            "tags": []
          },
          "execution_count": 37
        }
      ]
    },
    {
      "cell_type": "code",
      "metadata": {
        "id": "N0aJ-ru-mMM1",
        "colab_type": "code",
        "colab": {},
        "outputId": "fc2da691-1061-448f-c224-01610766f78e"
      },
      "source": [
        "x = torch.randn_like(x, dtype=torch.float64)    # override dtype!\n",
        "print(x) "
      ],
      "execution_count": 0,
      "outputs": [
        {
          "output_type": "stream",
          "text": [
            "tensor([[ 1.7977, -1.2452,  0.5304],\n",
            "        [-1.5344, -0.3468, -1.1379],\n",
            "        [ 0.6575, -0.8318,  0.5323],\n",
            "        [ 0.6046,  0.8806,  1.3042],\n",
            "        [-0.0484, -0.5992,  0.3282]], dtype=torch.float64)\n"
          ],
          "name": "stdout"
        }
      ]
    },
    {
      "cell_type": "code",
      "metadata": {
        "id": "TC079UuBmMM5",
        "colab_type": "code",
        "colab": {},
        "outputId": "a5dc9418-38d8-4bf8-b10d-1df9a6827394"
      },
      "source": [
        "print(x.shape), print(x.size())"
      ],
      "execution_count": 0,
      "outputs": [
        {
          "output_type": "stream",
          "text": [
            "torch.Size([5, 3])\n",
            "torch.Size([5, 3])\n"
          ],
          "name": "stdout"
        },
        {
          "output_type": "execute_result",
          "data": {
            "text/plain": [
              "(None, None)"
            ]
          },
          "metadata": {
            "tags": []
          },
          "execution_count": 39
        }
      ]
    },
    {
      "cell_type": "markdown",
      "metadata": {
        "id": "YTBBkslqmMM7",
        "colab_type": "text"
      },
      "source": [
        "#### Conversion to numpy arrays"
      ]
    },
    {
      "cell_type": "code",
      "metadata": {
        "id": "z3TE64AOmMM7",
        "colab_type": "code",
        "colab": {}
      },
      "source": [
        "y = x.numpy()"
      ],
      "execution_count": 0,
      "outputs": []
    },
    {
      "cell_type": "code",
      "metadata": {
        "id": "_wYD8povmMM-",
        "colab_type": "code",
        "colab": {},
        "outputId": "65b9a471-2bab-472b-faf4-7c83e48c8f4d"
      },
      "source": [
        "y"
      ],
      "execution_count": 0,
      "outputs": [
        {
          "output_type": "execute_result",
          "data": {
            "text/plain": [
              "array([[ 1.79767662, -1.24517159,  0.53044555],\n",
              "       [-1.5344497 , -0.34684012, -1.13793026],\n",
              "       [ 0.65748941, -0.8317851 ,  0.53231995],\n",
              "       [ 0.60460834,  0.8806115 ,  1.30415491],\n",
              "       [-0.04838126, -0.59917041,  0.32818938]])"
            ]
          },
          "metadata": {
            "tags": []
          },
          "execution_count": 41
        }
      ]
    },
    {
      "cell_type": "code",
      "metadata": {
        "id": "49A8u5AKmMNC",
        "colab_type": "code",
        "colab": {},
        "outputId": "84b87981-455d-4391-e601-c17cf53a4b60"
      },
      "source": [
        "y.dtype"
      ],
      "execution_count": 0,
      "outputs": [
        {
          "output_type": "execute_result",
          "data": {
            "text/plain": [
              "dtype('float64')"
            ]
          },
          "metadata": {
            "tags": []
          },
          "execution_count": 42
        }
      ]
    },
    {
      "cell_type": "markdown",
      "metadata": {
        "id": "uTVzHrdbmMNE",
        "colab_type": "text"
      },
      "source": [
        "## The automatic differentiation of tensors through autograd"
      ]
    },
    {
      "cell_type": "code",
      "metadata": {
        "id": "HNohQYT6mMNF",
        "colab_type": "code",
        "colab": {},
        "outputId": "23ddc99d-91eb-4952-d58d-23170d3c98b1"
      },
      "source": [
        "x = x.new_ones(5, 3, dtype=torch.double, device=cuda_device)\n",
        "\n",
        "x = torch.randn_like(x, dtype=torch.double, device=cuda_device, requires_grad=True)\n",
        "print(x)"
      ],
      "execution_count": 0,
      "outputs": [
        {
          "output_type": "stream",
          "text": [
            "tensor([[ 0.5102, -0.4021, -0.6409],\n",
            "        [ 1.9724, -0.2610, -0.3242],\n",
            "        [-0.0356, -0.1507, -2.6582],\n",
            "        [ 0.7653, -0.2435,  2.2780],\n",
            "        [-0.1190,  0.2608,  0.4066]], dtype=torch.float64, requires_grad=True)\n"
          ],
          "name": "stdout"
        }
      ]
    },
    {
      "cell_type": "code",
      "metadata": {
        "id": "DS-VQztZmMNH",
        "colab_type": "code",
        "colab": {},
        "outputId": "0a6a9e31-752d-4b61-849f-12f7e584249c"
      },
      "source": [
        "b = torch.tensor(np.array([[1, 2, 3], [4, 5, 6]]), dtype=torch.double, device=cuda_device, requires_grad=True)\n",
        "print(b)"
      ],
      "execution_count": 0,
      "outputs": [
        {
          "output_type": "stream",
          "text": [
            "tensor([[1., 2., 3.],\n",
            "        [4., 5., 6.]], dtype=torch.float64, requires_grad=True)\n"
          ],
          "name": "stdout"
        }
      ]
    },
    {
      "cell_type": "code",
      "metadata": {
        "id": "M6WYKymzmMNK",
        "colab_type": "code",
        "colab": {},
        "outputId": "7d72956b-e41b-45a3-f113-e8109c65c38c"
      },
      "source": [
        "y = x + 2\n",
        "print(y)"
      ],
      "execution_count": 0,
      "outputs": [
        {
          "output_type": "stream",
          "text": [
            "tensor([[ 2.5102,  1.5979,  1.3591],\n",
            "        [ 3.9724,  1.7390,  1.6758],\n",
            "        [ 1.9644,  1.8493, -0.6582],\n",
            "        [ 2.7653,  1.7565,  4.2780],\n",
            "        [ 1.8810,  2.2608,  2.4066]], dtype=torch.float64,\n",
            "       grad_fn=<AddBackward0>)\n"
          ],
          "name": "stdout"
        }
      ]
    },
    {
      "cell_type": "code",
      "metadata": {
        "id": "RvtAgyelmMNM",
        "colab_type": "code",
        "colab": {},
        "outputId": "f199b989-ba29-4cf8-d37f-b7ef904cb6f5"
      },
      "source": [
        "y.grad_fn"
      ],
      "execution_count": 0,
      "outputs": [
        {
          "output_type": "execute_result",
          "data": {
            "text/plain": [
              "<AddBackward0 at 0x7fb298e2d850>"
            ]
          },
          "metadata": {
            "tags": []
          },
          "execution_count": 49
        }
      ]
    },
    {
      "cell_type": "code",
      "metadata": {
        "id": "WGeApf-1mMNO",
        "colab_type": "code",
        "colab": {},
        "outputId": "29be9329-2e04-41ae-8418-a5668aa73a39"
      },
      "source": [
        "## -- assigning a required_grad criteria -- #\n",
        "a = torch.randn(2, 2)\n",
        "a = ((a * 3) / (a - 1))\n",
        "print(a.requires_grad)\n",
        "a.requires_grad_(True)\n",
        "print(a.requires_grad)\n",
        "b = (a * a).sum()\n",
        "print(b.grad_fn)"
      ],
      "execution_count": 0,
      "outputs": [
        {
          "output_type": "stream",
          "text": [
            "False\n",
            "True\n",
            "<SumBackward0 object at 0x7fb2c953a310>\n"
          ],
          "name": "stdout"
        }
      ]
    },
    {
      "cell_type": "code",
      "metadata": {
        "id": "DacMohwGmMNR",
        "colab_type": "code",
        "colab": {},
        "outputId": "1068b043-3d50-4d6a-bd48-765c406e24c5"
      },
      "source": [
        "print(a), print(b)"
      ],
      "execution_count": 0,
      "outputs": [
        {
          "output_type": "stream",
          "text": [
            "tensor([[1.5064, 1.1261],\n",
            "        [0.2980, 1.0568]], requires_grad=True)\n",
            "tensor(4.7430, grad_fn=<SumBackward0>)\n"
          ],
          "name": "stdout"
        },
        {
          "output_type": "execute_result",
          "data": {
            "text/plain": [
              "(None, None)"
            ]
          },
          "metadata": {
            "tags": []
          },
          "execution_count": 52
        }
      ]
    },
    {
      "cell_type": "code",
      "metadata": {
        "id": "z20Jm2HcmMNT",
        "colab_type": "code",
        "colab": {}
      },
      "source": [
        ""
      ],
      "execution_count": 0,
      "outputs": []
    },
    {
      "cell_type": "code",
      "metadata": {
        "id": "Cv-0-5kEmMNV",
        "colab_type": "code",
        "colab": {},
        "outputId": "39a0768d-ff4d-4a3a-b198-7cbc6791a00c"
      },
      "source": [
        "x = torch.randn(3, requires_grad=True)\n",
        "\n",
        "y = x * 2\n",
        "while y.data.norm() < 1000:\n",
        "    y = y * 2\n",
        "\n",
        "print(y)"
      ],
      "execution_count": 0,
      "outputs": [
        {
          "output_type": "stream",
          "text": [
            "tensor([  347.0835, -1292.2808,   221.7831], grad_fn=<MulBackward0>)\n"
          ],
          "name": "stdout"
        }
      ]
    },
    {
      "cell_type": "code",
      "metadata": {
        "id": "JUqo4W0fmMNX",
        "colab_type": "code",
        "colab": {},
        "outputId": "6df669dd-3d17-4a7d-c725-729ee92679b1"
      },
      "source": [
        "x"
      ],
      "execution_count": 0,
      "outputs": [
        {
          "output_type": "execute_result",
          "data": {
            "text/plain": [
              "tensor([ 0.3389, -1.2620,  0.2166], requires_grad=True)"
            ]
          },
          "metadata": {
            "tags": []
          },
          "execution_count": 56
        }
      ]
    },
    {
      "cell_type": "code",
      "metadata": {
        "id": "lfbWmbxlmMNZ",
        "colab_type": "code",
        "colab": {},
        "outputId": "c718b46b-5838-47f3-9f52-da331d2f1bae"
      },
      "source": [
        "v = torch.tensor([0.1, 1.0, 0.0001], dtype=torch.float)\n",
        "y.backward(v)\n",
        "\n",
        "print(x.grad)"
      ],
      "execution_count": 0,
      "outputs": [
        {
          "output_type": "stream",
          "text": [
            "tensor([2.0000e-01, 2.0000e+00, 2.0000e-04])\n"
          ],
          "name": "stdout"
        }
      ]
    },
    {
      "cell_type": "markdown",
      "metadata": {
        "id": "FDsm-3h8mMNb",
        "colab_type": "text"
      },
      "source": [
        "### Doing a backpropagation in the numpy way with torch tensors"
      ]
    },
    {
      "cell_type": "code",
      "metadata": {
        "id": "V-yHMQSPmMNc",
        "colab_type": "code",
        "colab": {},
        "outputId": "508f9078-d079-485b-9c2c-2e96690956ce"
      },
      "source": [
        "\n",
        "dtype = torch.float\n",
        "device = cuda_device\n",
        "# device = torch.device(\"cuda:0\") # Uncomment this to run on GPU\n",
        "\n",
        "# N is batch size; D_in is input dimension;\n",
        "# H is hidden dimension; D_out is output dimension.\n",
        "N, D_in, H, D_out = 64, 1000, 100, 10\n",
        "\n",
        "# Create random input and output data\n",
        "x = torch.randn(N, D_in, device=device, dtype=dtype)\n",
        "y = torch.randn(N, D_out, device=device, dtype=dtype)\n",
        "\n",
        "# Randomly initialize weights\n",
        "w1 = torch.randn(D_in, H, device=device, dtype=dtype)\n",
        "w2 = torch.randn(H, D_out, device=device, dtype=dtype)\n",
        "\n",
        "learning_rate = 1e-6\n",
        "for t in range(500):\n",
        "    # Forward pass: compute predicted y\n",
        "    h = x.mm(w1)\n",
        "    h_relu = h.clamp(min=0) # -- the clamp filters out < 0 values\n",
        "    y_pred = h_relu.mm(w2)\n",
        "\n",
        "    # Compute and print loss\n",
        "    loss = (y_pred - y).pow(2).sum().item()\n",
        "    if t % 50 == 49:\n",
        "        print(t, loss)\n",
        "\n",
        "    # Backprop to compute gradients of w1 and w2 with respect to loss\n",
        "    grad_y_pred = 2.0 * (y_pred - y)\n",
        "    grad_w2 = h_relu.t().mm(grad_y_pred)\n",
        "    grad_h_relu = grad_y_pred.mm(w2.t())\n",
        "    grad_h = grad_h_relu.clone()\n",
        "    grad_h[h < 0] = 0\n",
        "    grad_w1 = x.t().mm(grad_h) # -- we had x.T for numpy arrays\n",
        "\n",
        "    # Update weights using gradient descent\n",
        "    w1 -= learning_rate * grad_w1\n",
        "    w2 -= learning_rate * grad_w2"
      ],
      "execution_count": 0,
      "outputs": [
        {
          "output_type": "stream",
          "text": [
            "49 19687.40234375\n",
            "99 1247.0986328125\n",
            "149 131.6090850830078\n",
            "199 16.24941635131836\n",
            "249 2.1392900943756104\n",
            "299 0.2909495532512665\n",
            "349 0.04048660770058632\n",
            "399 0.005967785604298115\n",
            "449 0.0011125365272164345\n",
            "499 0.0003139939217362553\n"
          ],
          "name": "stdout"
        }
      ]
    },
    {
      "cell_type": "markdown",
      "metadata": {
        "id": "JPtVm9cMmMNe",
        "colab_type": "text"
      },
      "source": [
        "## Using the autograd function of pytorch to compute the derivatives & do backpropagation"
      ]
    },
    {
      "cell_type": "code",
      "metadata": {
        "id": "PlDeqMZjmMNe",
        "colab_type": "code",
        "colab": {},
        "outputId": "32432e4c-b03f-43f9-f5ba-6edcf42adec7"
      },
      "source": [
        "# -*- coding: utf-8 -*-\n",
        "dtype = torch.float\n",
        "device = cuda_device\n",
        "# device = torch.device(\"cuda:0\") # Uncomment this to run on GPU\n",
        "\n",
        "# N is batch size; D_in is input dimension;\n",
        "# H is hidden dimension; D_out is output dimension.\n",
        "N, D_in, H, D_out = 64, 1000, 100, 10\n",
        "\n",
        "# Create random Tensors to hold input and outputs.\n",
        "# Setting requires_grad=False indicates that we do not need to compute gradients\n",
        "# with respect to these Tensors during the backward pass.\n",
        "x = torch.randn(N, D_in, device=device, dtype=dtype)\n",
        "y = torch.randn(N, D_out, device=device, dtype=dtype)\n",
        "\n",
        "# Create random Tensors for weights.\n",
        "# Setting requires_grad=True indicates that we want to compute gradients with\n",
        "# respect to these Tensors during the backward pass.\n",
        "w1 = torch.randn(D_in, H, device=device, dtype=dtype, requires_grad=True)\n",
        "w2 = torch.randn(H, D_out, device=device, dtype=dtype, requires_grad=True)\n",
        "\n",
        "learning_rate = 1e-6\n",
        "for t in range(500):\n",
        "    # Forward pass: compute predicted y using operations on Tensors; these\n",
        "    # are exactly the same operations we used to compute the forward pass using\n",
        "    # Tensors, but we do not need to keep references to intermediate values since\n",
        "    # we are not implementing the backward pass by hand.\n",
        "    y_pred = x.mm(w1).clamp(min=0).mm(w2) # --- the forward pass through two layers is happening here.\n",
        "\n",
        "    # Compute and print loss using operations on Tensors.\n",
        "    # Now loss is a Tensor of shape (1,)\n",
        "    # loss.item() gets the scalar value held in the loss.\n",
        "    loss = (y_pred - y).pow(2).sum()\n",
        "    if t % 50 == 49:\n",
        "        print(t, loss.item())\n",
        "\n",
        "    # Use autograd to compute the backward pass. This call will compute the\n",
        "    # gradient of loss with respect to all Tensors with requires_grad=True.\n",
        "    # After this call w1.grad and w2.grad will be Tensors holding the gradient\n",
        "    # of the loss with respect to w1 and w2 respectively.\n",
        "    loss.backward()\n",
        "\n",
        "    # Manually update weights using gradient descent. Wrap in torch.no_grad()\n",
        "    # because weights have requires_grad=True, but we don't need to track this\n",
        "    # in autograd.\n",
        "    # An alternative way is to operate on weight.data and weight.grad.data.\n",
        "    # Recall that tensor.data gives a tensor that shares the storage with\n",
        "    # tensor, but doesn't track history.\n",
        "    # You can also use torch.optim.SGD to achieve this.\n",
        "    with torch.no_grad():\n",
        "        w1 -= learning_rate * w1.grad\n",
        "        w2 -= learning_rate * w2.grad\n",
        "\n",
        "        # Manually zero the gradients after updating weights\n",
        "        w1.grad.zero_()\n",
        "        w2.grad.zero_()"
      ],
      "execution_count": 0,
      "outputs": [
        {
          "output_type": "stream",
          "text": [
            "49 15529.0771484375\n",
            "99 752.7603149414062\n",
            "149 68.41072845458984\n",
            "199 7.534181118011475\n",
            "249 0.908591628074646\n",
            "299 0.11579940468072891\n",
            "349 0.01547524519264698\n",
            "399 0.0023776493035256863\n",
            "449 0.0005157676641829312\n",
            "499 0.00016332478844560683\n"
          ],
          "name": "stdout"
        }
      ]
    },
    {
      "cell_type": "markdown",
      "metadata": {
        "id": "P9cnANo6mMNi",
        "colab_type": "text"
      },
      "source": [
        "### The PyTorch nn Modeule, contains the basic NN layers"
      ]
    },
    {
      "cell_type": "code",
      "metadata": {
        "id": "1BAFwuDkmMNi",
        "colab_type": "code",
        "colab": {},
        "outputId": "f7f8a426-22b3-40b2-ff94-a0a54e434ad4"
      },
      "source": [
        "# N is batch size; D_in is input dimension;\n",
        "# H is hidden dimension; D_out is output dimension.\n",
        "N, D_in, H, D_out = 64, 1000, 100, 10\n",
        "\n",
        "# Create random Tensors to hold inputs and outputs\n",
        "x = torch.randn(N, D_in)\n",
        "y = torch.randn(N, D_out)\n",
        "\n",
        "# Use the nn package to define our model as a sequence of layers. nn.Sequential\n",
        "# is a Module which contains other Modules, and applies them in sequence to\n",
        "# produce its output. Each Linear Module computes output from input using a\n",
        "# linear function, and holds internal Tensors for its weight and bias.\n",
        "model = torch.nn.Sequential(\n",
        "    torch.nn.Linear(D_in, H),\n",
        "    torch.nn.ReLU(),\n",
        "    torch.nn.Linear(H, D_out),\n",
        ")\n",
        "\n",
        "# The nn package also contains definitions of popular loss functions; in this\n",
        "# case we will use Mean Squared Error (MSE) as our loss function.\n",
        "loss_fn = torch.nn.MSELoss(reduction='sum')\n",
        "\n",
        "learning_rate = 1e-4\n",
        "for t in range(500):\n",
        "    # Forward pass: compute predicted y by passing x to the model. Module objects\n",
        "    # override the __call__ operator so you can call them like functions. When\n",
        "    # doing so you pass a Tensor of input data to the Module and it produces\n",
        "    # a Tensor of output data.\n",
        "    y_pred = model(x)\n",
        "\n",
        "    # Compute and print loss. We pass Tensors containing the predicted and true\n",
        "    # values of y, and the loss function returns a Tensor containing the\n",
        "    # loss.\n",
        "    loss = loss_fn(y_pred, y)\n",
        "    if t % 50 == 49:\n",
        "        print(t, loss.item())\n",
        "\n",
        "    # Zero the gradients before running the backward pass.\n",
        "    model.zero_grad()\n",
        "\n",
        "    # Backward pass: compute gradient of the loss with respect to all the learnable\n",
        "    # parameters of the model. Internally, the parameters of each Module are stored\n",
        "    # in Tensors with requires_grad=True, so this call will compute gradients for\n",
        "    # all learnable parameters in the model.\n",
        "    loss.backward()\n",
        "\n",
        "    # Update the weights using gradient descent. Each parameter is a Tensor, so\n",
        "    # we can access its gradients like we did before.\n",
        "    with torch.no_grad():\n",
        "        for param in model.parameters():\n",
        "            param -= learning_rate * param.grad"
      ],
      "execution_count": 0,
      "outputs": [
        {
          "output_type": "stream",
          "text": [
            "49 36.37443923950195\n",
            "99 2.354414224624634\n",
            "149 0.26214244961738586\n",
            "199 0.03899145871400833\n",
            "249 0.007049467880278826\n",
            "299 0.0015036026015877724\n",
            "349 0.0003607187536545098\n",
            "399 9.672551823314279e-05\n",
            "449 2.761617724900134e-05\n",
            "499 8.210541636799462e-06\n"
          ],
          "name": "stdout"
        }
      ]
    },
    {
      "cell_type": "markdown",
      "metadata": {
        "id": "xeWbwb2omMNl",
        "colab_type": "text"
      },
      "source": [
        "### Updating the weights through PyTorch optim "
      ]
    },
    {
      "cell_type": "code",
      "metadata": {
        "id": "Uc375LWxmMNl",
        "colab_type": "code",
        "colab": {},
        "outputId": "e9e5549a-fbeb-4576-8a9f-8be60c6e3cb6"
      },
      "source": [
        "\n",
        "# N is batch size; D_in is input dimension;\n",
        "# H is hidden dimension; D_out is output dimension.\n",
        "N, D_in, H, D_out = 64, 1000, 100, 10\n",
        "\n",
        "# Create random Tensors to hold inputs and outputs\n",
        "x = torch.randn(N, D_in)\n",
        "y = torch.randn(N, D_out)\n",
        "\n",
        "# Use the nn package to define our model and loss function.\n",
        "model = torch.nn.Sequential(\n",
        "    torch.nn.Linear(D_in, H),\n",
        "    torch.nn.ReLU(),\n",
        "    torch.nn.Linear(H, D_out),\n",
        ")\n",
        "loss_fn = torch.nn.MSELoss(reduction='sum')\n",
        "\n",
        "# Use the optim package to define an Optimizer that will update the weights of\n",
        "# the model for us. Here we will use Adam; the optim package contains many other\n",
        "# optimization algoriths. The first argument to the Adam constructor tells the\n",
        "# optimizer which Tensors it should update.\n",
        "learning_rate = 1e-4\n",
        "optimizer = torch.optim.Adam(model.parameters(), lr=learning_rate)\n",
        "for t in range(500):\n",
        "    # Forward pass: compute predicted y by passing x to the model.\n",
        "    y_pred = model(x)\n",
        "\n",
        "    # Compute and print loss.\n",
        "    loss = loss_fn(y_pred, y)\n",
        "    if t % 50 == 49:\n",
        "        print(t, loss.item())\n",
        "\n",
        "    # Before the backward pass, use the optimizer object to zero all of the\n",
        "    # gradients for the variables it will update (which are the learnable\n",
        "    # weights of the model). This is because by default, gradients are\n",
        "    # accumulated in buffers( i.e, not overwritten) whenever .backward()\n",
        "    # is called. Checkout docs of torch.autograd.backward for more details.\n",
        "    optimizer.zero_grad()\n",
        "\n",
        "    # Backward pass: compute gradient of the loss with respect to model\n",
        "    # parameters\n",
        "    loss.backward()\n",
        "\n",
        "    # Calling the step function on an Optimizer makes an update to its\n",
        "    # parameters\n",
        "    optimizer.step()"
      ],
      "execution_count": 0,
      "outputs": [
        {
          "output_type": "stream",
          "text": [
            "49 191.87445068359375\n",
            "99 46.8408088684082\n",
            "149 7.998919486999512\n",
            "199 1.1330779790878296\n",
            "249 0.18173131346702576\n",
            "299 0.03769247978925705\n",
            "349 0.008523359894752502\n",
            "399 0.0017651371890679002\n",
            "449 0.0003159788029734045\n",
            "499 4.8122674343176186e-05\n"
          ],
          "name": "stdout"
        }
      ]
    },
    {
      "cell_type": "code",
      "metadata": {
        "id": "oVGtoNcMmMNu",
        "colab_type": "code",
        "colab": {}
      },
      "source": [
        ""
      ],
      "execution_count": 0,
      "outputs": []
    }
  ]
}